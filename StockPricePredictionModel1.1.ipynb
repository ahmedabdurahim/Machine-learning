{
  "cells": [
    {
      "cell_type": "markdown",
      "metadata": {
        "id": "view-in-github",
        "colab_type": "text"
      },
      "source": [
        "<a href=\"https://colab.research.google.com/github/ahmedabdurahim/Machine-learning/blob/main/StockPricePredictionModel1.1.ipynb\" target=\"_parent\"><img src=\"https://colab.research.google.com/assets/colab-badge.svg\" alt=\"Open In Colab\"/></a>"
      ]
    },
    {
      "cell_type": "code",
      "source": [
        "!pip install --upgrade pandas-datareader"
      ],
      "metadata": {
        "id": "GHzY7TazVBtu",
        "colab": {
          "base_uri": "https://localhost:8080/"
        },
        "outputId": "835b3e75-7393-4a59-ee61-d5f189d9e59d"
      },
      "execution_count": 216,
      "outputs": [
        {
          "output_type": "stream",
          "name": "stdout",
          "text": [
            "Looking in indexes: https://pypi.org/simple, https://us-python.pkg.dev/colab-wheels/public/simple/\n",
            "Requirement already satisfied: pandas-datareader in /usr/local/lib/python3.7/dist-packages (0.10.0)\n",
            "Requirement already satisfied: requests>=2.19.0 in /usr/local/lib/python3.7/dist-packages (from pandas-datareader) (2.23.0)\n",
            "Requirement already satisfied: lxml in /usr/local/lib/python3.7/dist-packages (from pandas-datareader) (4.9.1)\n",
            "Requirement already satisfied: pandas>=0.23 in /usr/local/lib/python3.7/dist-packages (from pandas-datareader) (1.3.5)\n",
            "Requirement already satisfied: python-dateutil>=2.7.3 in /usr/local/lib/python3.7/dist-packages (from pandas>=0.23->pandas-datareader) (2.8.2)\n",
            "Requirement already satisfied: pytz>=2017.3 in /usr/local/lib/python3.7/dist-packages (from pandas>=0.23->pandas-datareader) (2022.5)\n",
            "Requirement already satisfied: numpy>=1.17.3 in /usr/local/lib/python3.7/dist-packages (from pandas>=0.23->pandas-datareader) (1.21.6)\n",
            "Requirement already satisfied: six>=1.5 in /usr/local/lib/python3.7/dist-packages (from python-dateutil>=2.7.3->pandas>=0.23->pandas-datareader) (1.15.0)\n",
            "Requirement already satisfied: chardet<4,>=3.0.2 in /usr/local/lib/python3.7/dist-packages (from requests>=2.19.0->pandas-datareader) (3.0.4)\n",
            "Requirement already satisfied: idna<3,>=2.5 in /usr/local/lib/python3.7/dist-packages (from requests>=2.19.0->pandas-datareader) (2.10)\n",
            "Requirement already satisfied: certifi>=2017.4.17 in /usr/local/lib/python3.7/dist-packages (from requests>=2.19.0->pandas-datareader) (2022.9.24)\n",
            "Requirement already satisfied: urllib3!=1.25.0,!=1.25.1,<1.26,>=1.21.1 in /usr/local/lib/python3.7/dist-packages (from requests>=2.19.0->pandas-datareader) (1.24.3)\n"
          ]
        }
      ]
    },
    {
      "cell_type": "code",
      "execution_count": 217,
      "metadata": {
        "id": "P1Omyfm4SfzP"
      },
      "outputs": [],
      "source": [
        "import math\n",
        "import pandas_datareader as web\n",
        "import numpy as np\n",
        "import pandas as pd\n",
        "from sklearn.preprocessing import MinMaxScaler\n",
        "from keras.models import Sequential\n",
        "from keras.layers import Dense, LSTM\n",
        "import matplotlib.pyplot as plt\n",
        "\n",
        "plt.style.use('fivethirtyeight')\n"
      ]
    },
    {
      "cell_type": "code",
      "source": [
        "df = web.DataReader('SPY', data_source = 'yahoo', start = '2012-01-01', end = '2022-10-30')\n",
        "#show the data\n",
        "\n",
        "df"
      ],
      "metadata": {
        "colab": {
          "base_uri": "https://localhost:8080/",
          "height": 455
        },
        "id": "qmR7Rq5bTpXn",
        "outputId": "ea0d8cfc-56a3-4dd5-f14e-078fb30ecd95"
      },
      "execution_count": 218,
      "outputs": [
        {
          "output_type": "execute_result",
          "data": {
            "text/plain": [
              "                  High         Low        Open       Close       Volume  \\\n",
              "Date                                                                      \n",
              "2012-01-03  128.380005  127.430000  127.760002  127.500000  193697900.0   \n",
              "2012-01-04  127.809998  126.709999  127.199997  127.699997  127186500.0   \n",
              "2012-01-05  128.229996  126.430000  127.010002  128.039993  173895000.0   \n",
              "2012-01-06  128.220001  127.290001  128.199997  127.709999  148050000.0   \n",
              "2012-01-09  128.179993  127.410004  128.000000  128.020004   99530200.0   \n",
              "...                ...         ...         ...         ...          ...   \n",
              "2022-10-24  380.059998  373.109985  375.890015  378.869995   85436900.0   \n",
              "2022-10-25  385.250000  378.670013  378.790009  384.920013   78846300.0   \n",
              "2022-10-26  387.579987  381.350006  381.619995  382.019989  104087300.0   \n",
              "2022-10-27  385.000000  379.329987  383.070007  379.980011   81971800.0   \n",
              "2022-10-28  389.519989  379.679993  379.869995  389.019989  100200100.0   \n",
              "\n",
              "             Adj Close  \n",
              "Date                    \n",
              "2012-01-03  104.071899  \n",
              "2012-01-04  104.235138  \n",
              "2012-01-05  104.512688  \n",
              "2012-01-06  104.243332  \n",
              "2012-01-09  104.496346  \n",
              "...                ...  \n",
              "2022-10-24  378.869995  \n",
              "2022-10-25  384.920013  \n",
              "2022-10-26  382.019989  \n",
              "2022-10-27  379.980011  \n",
              "2022-10-28  389.019989  \n",
              "\n",
              "[2725 rows x 6 columns]"
            ],
            "text/html": [
              "\n",
              "  <div id=\"df-49b16ba7-953c-457a-8b72-75929a79230c\">\n",
              "    <div class=\"colab-df-container\">\n",
              "      <div>\n",
              "<style scoped>\n",
              "    .dataframe tbody tr th:only-of-type {\n",
              "        vertical-align: middle;\n",
              "    }\n",
              "\n",
              "    .dataframe tbody tr th {\n",
              "        vertical-align: top;\n",
              "    }\n",
              "\n",
              "    .dataframe thead th {\n",
              "        text-align: right;\n",
              "    }\n",
              "</style>\n",
              "<table border=\"1\" class=\"dataframe\">\n",
              "  <thead>\n",
              "    <tr style=\"text-align: right;\">\n",
              "      <th></th>\n",
              "      <th>High</th>\n",
              "      <th>Low</th>\n",
              "      <th>Open</th>\n",
              "      <th>Close</th>\n",
              "      <th>Volume</th>\n",
              "      <th>Adj Close</th>\n",
              "    </tr>\n",
              "    <tr>\n",
              "      <th>Date</th>\n",
              "      <th></th>\n",
              "      <th></th>\n",
              "      <th></th>\n",
              "      <th></th>\n",
              "      <th></th>\n",
              "      <th></th>\n",
              "    </tr>\n",
              "  </thead>\n",
              "  <tbody>\n",
              "    <tr>\n",
              "      <th>2012-01-03</th>\n",
              "      <td>128.380005</td>\n",
              "      <td>127.430000</td>\n",
              "      <td>127.760002</td>\n",
              "      <td>127.500000</td>\n",
              "      <td>193697900.0</td>\n",
              "      <td>104.071899</td>\n",
              "    </tr>\n",
              "    <tr>\n",
              "      <th>2012-01-04</th>\n",
              "      <td>127.809998</td>\n",
              "      <td>126.709999</td>\n",
              "      <td>127.199997</td>\n",
              "      <td>127.699997</td>\n",
              "      <td>127186500.0</td>\n",
              "      <td>104.235138</td>\n",
              "    </tr>\n",
              "    <tr>\n",
              "      <th>2012-01-05</th>\n",
              "      <td>128.229996</td>\n",
              "      <td>126.430000</td>\n",
              "      <td>127.010002</td>\n",
              "      <td>128.039993</td>\n",
              "      <td>173895000.0</td>\n",
              "      <td>104.512688</td>\n",
              "    </tr>\n",
              "    <tr>\n",
              "      <th>2012-01-06</th>\n",
              "      <td>128.220001</td>\n",
              "      <td>127.290001</td>\n",
              "      <td>128.199997</td>\n",
              "      <td>127.709999</td>\n",
              "      <td>148050000.0</td>\n",
              "      <td>104.243332</td>\n",
              "    </tr>\n",
              "    <tr>\n",
              "      <th>2012-01-09</th>\n",
              "      <td>128.179993</td>\n",
              "      <td>127.410004</td>\n",
              "      <td>128.000000</td>\n",
              "      <td>128.020004</td>\n",
              "      <td>99530200.0</td>\n",
              "      <td>104.496346</td>\n",
              "    </tr>\n",
              "    <tr>\n",
              "      <th>...</th>\n",
              "      <td>...</td>\n",
              "      <td>...</td>\n",
              "      <td>...</td>\n",
              "      <td>...</td>\n",
              "      <td>...</td>\n",
              "      <td>...</td>\n",
              "    </tr>\n",
              "    <tr>\n",
              "      <th>2022-10-24</th>\n",
              "      <td>380.059998</td>\n",
              "      <td>373.109985</td>\n",
              "      <td>375.890015</td>\n",
              "      <td>378.869995</td>\n",
              "      <td>85436900.0</td>\n",
              "      <td>378.869995</td>\n",
              "    </tr>\n",
              "    <tr>\n",
              "      <th>2022-10-25</th>\n",
              "      <td>385.250000</td>\n",
              "      <td>378.670013</td>\n",
              "      <td>378.790009</td>\n",
              "      <td>384.920013</td>\n",
              "      <td>78846300.0</td>\n",
              "      <td>384.920013</td>\n",
              "    </tr>\n",
              "    <tr>\n",
              "      <th>2022-10-26</th>\n",
              "      <td>387.579987</td>\n",
              "      <td>381.350006</td>\n",
              "      <td>381.619995</td>\n",
              "      <td>382.019989</td>\n",
              "      <td>104087300.0</td>\n",
              "      <td>382.019989</td>\n",
              "    </tr>\n",
              "    <tr>\n",
              "      <th>2022-10-27</th>\n",
              "      <td>385.000000</td>\n",
              "      <td>379.329987</td>\n",
              "      <td>383.070007</td>\n",
              "      <td>379.980011</td>\n",
              "      <td>81971800.0</td>\n",
              "      <td>379.980011</td>\n",
              "    </tr>\n",
              "    <tr>\n",
              "      <th>2022-10-28</th>\n",
              "      <td>389.519989</td>\n",
              "      <td>379.679993</td>\n",
              "      <td>379.869995</td>\n",
              "      <td>389.019989</td>\n",
              "      <td>100200100.0</td>\n",
              "      <td>389.019989</td>\n",
              "    </tr>\n",
              "  </tbody>\n",
              "</table>\n",
              "<p>2725 rows × 6 columns</p>\n",
              "</div>\n",
              "      <button class=\"colab-df-convert\" onclick=\"convertToInteractive('df-49b16ba7-953c-457a-8b72-75929a79230c')\"\n",
              "              title=\"Convert this dataframe to an interactive table.\"\n",
              "              style=\"display:none;\">\n",
              "        \n",
              "  <svg xmlns=\"http://www.w3.org/2000/svg\" height=\"24px\"viewBox=\"0 0 24 24\"\n",
              "       width=\"24px\">\n",
              "    <path d=\"M0 0h24v24H0V0z\" fill=\"none\"/>\n",
              "    <path d=\"M18.56 5.44l.94 2.06.94-2.06 2.06-.94-2.06-.94-.94-2.06-.94 2.06-2.06.94zm-11 1L8.5 8.5l.94-2.06 2.06-.94-2.06-.94L8.5 2.5l-.94 2.06-2.06.94zm10 10l.94 2.06.94-2.06 2.06-.94-2.06-.94-.94-2.06-.94 2.06-2.06.94z\"/><path d=\"M17.41 7.96l-1.37-1.37c-.4-.4-.92-.59-1.43-.59-.52 0-1.04.2-1.43.59L10.3 9.45l-7.72 7.72c-.78.78-.78 2.05 0 2.83L4 21.41c.39.39.9.59 1.41.59.51 0 1.02-.2 1.41-.59l7.78-7.78 2.81-2.81c.8-.78.8-2.07 0-2.86zM5.41 20L4 18.59l7.72-7.72 1.47 1.35L5.41 20z\"/>\n",
              "  </svg>\n",
              "      </button>\n",
              "      \n",
              "  <style>\n",
              "    .colab-df-container {\n",
              "      display:flex;\n",
              "      flex-wrap:wrap;\n",
              "      gap: 12px;\n",
              "    }\n",
              "\n",
              "    .colab-df-convert {\n",
              "      background-color: #E8F0FE;\n",
              "      border: none;\n",
              "      border-radius: 50%;\n",
              "      cursor: pointer;\n",
              "      display: none;\n",
              "      fill: #1967D2;\n",
              "      height: 32px;\n",
              "      padding: 0 0 0 0;\n",
              "      width: 32px;\n",
              "    }\n",
              "\n",
              "    .colab-df-convert:hover {\n",
              "      background-color: #E2EBFA;\n",
              "      box-shadow: 0px 1px 2px rgba(60, 64, 67, 0.3), 0px 1px 3px 1px rgba(60, 64, 67, 0.15);\n",
              "      fill: #174EA6;\n",
              "    }\n",
              "\n",
              "    [theme=dark] .colab-df-convert {\n",
              "      background-color: #3B4455;\n",
              "      fill: #D2E3FC;\n",
              "    }\n",
              "\n",
              "    [theme=dark] .colab-df-convert:hover {\n",
              "      background-color: #434B5C;\n",
              "      box-shadow: 0px 1px 3px 1px rgba(0, 0, 0, 0.15);\n",
              "      filter: drop-shadow(0px 1px 2px rgba(0, 0, 0, 0.3));\n",
              "      fill: #FFFFFF;\n",
              "    }\n",
              "  </style>\n",
              "\n",
              "      <script>\n",
              "        const buttonEl =\n",
              "          document.querySelector('#df-49b16ba7-953c-457a-8b72-75929a79230c button.colab-df-convert');\n",
              "        buttonEl.style.display =\n",
              "          google.colab.kernel.accessAllowed ? 'block' : 'none';\n",
              "\n",
              "        async function convertToInteractive(key) {\n",
              "          const element = document.querySelector('#df-49b16ba7-953c-457a-8b72-75929a79230c');\n",
              "          const dataTable =\n",
              "            await google.colab.kernel.invokeFunction('convertToInteractive',\n",
              "                                                     [key], {});\n",
              "          if (!dataTable) return;\n",
              "\n",
              "          const docLinkHtml = 'Like what you see? Visit the ' +\n",
              "            '<a target=\"_blank\" href=https://colab.research.google.com/notebooks/data_table.ipynb>data table notebook</a>'\n",
              "            + ' to learn more about interactive tables.';\n",
              "          element.innerHTML = '';\n",
              "          dataTable['output_type'] = 'display_data';\n",
              "          await google.colab.output.renderOutput(dataTable, element);\n",
              "          const docLink = document.createElement('div');\n",
              "          docLink.innerHTML = docLinkHtml;\n",
              "          element.appendChild(docLink);\n",
              "        }\n",
              "      </script>\n",
              "    </div>\n",
              "  </div>\n",
              "  "
            ]
          },
          "metadata": {},
          "execution_count": 218
        }
      ]
    },
    {
      "cell_type": "code",
      "source": [
        "df.shape"
      ],
      "metadata": {
        "colab": {
          "base_uri": "https://localhost:8080/"
        },
        "id": "kJiYRMHwVXLm",
        "outputId": "1ce9b6a2-5ae9-4248-ae11-175b70a7bcd0"
      },
      "execution_count": 219,
      "outputs": [
        {
          "output_type": "execute_result",
          "data": {
            "text/plain": [
              "(2725, 6)"
            ]
          },
          "metadata": {},
          "execution_count": 219
        }
      ]
    },
    {
      "cell_type": "code",
      "source": [
        "#Visualizing the closing price history\n",
        "\n",
        "plt.figure(figsize=(16,8))\n",
        "plt.title('Close Price History')\n",
        "plt.plot(df['Close'])\n",
        "plt.xlabel('Date', fontsize=18)\n",
        "plt.ylabel('Close Price USD ($)', fontsize=18)\n",
        "plt.show()"
      ],
      "metadata": {
        "colab": {
          "base_uri": "https://localhost:8080/",
          "height": 558
        },
        "id": "KrMV31ItVgqX",
        "outputId": "073bc1b3-7065-4a55-e87b-d58e8a3669da"
      },
      "execution_count": 220,
      "outputs": [
        {
          "output_type": "display_data",
          "data": {
            "text/plain": [
              "<Figure size 1152x576 with 1 Axes>"
            ],
            "image/png": "[encoded data removed]"
          },
          "metadata": {}
        }
      ]
    },
    {
      "cell_type": "code",
      "source": [
        "# New DataFrame with only Close column\n",
        "data = df.filter(['Close'])\n",
        "#Convert the datafram to a numpy array\n",
        "dataset = data.values\n",
        "#Get no of rows to train model on\n",
        "training_data_len = math.ceil(len(dataset) * .8)\n",
        "\n",
        "training_data_len"
      ],
      "metadata": {
        "colab": {
          "base_uri": "https://localhost:8080/"
        },
        "id": "U1uFt6FsYmTz",
        "outputId": "db32eb93-9f5e-4dac-fd09-57155321a1d0"
      },
      "execution_count": 221,
      "outputs": [
        {
          "output_type": "execute_result",
          "data": {
            "text/plain": [
              "2180"
            ]
          },
          "metadata": {},
          "execution_count": 221
        }
      ]
    },
    {
      "cell_type": "code",
      "source": [
        "#scale the data\n",
        "scaler = MinMaxScaler(feature_range=(0,1))\n",
        "scaled_data = scaler.fit_transform(dataset)\n",
        "\n",
        "\n",
        "scaled_data"
      ],
      "metadata": {
        "colab": {
          "base_uri": "https://localhost:8080/"
        },
        "id": "FN8RtQbVaHV6",
        "outputId": "6002490d-555f-45df-fec4-7f66cbaac151"
      },
      "execution_count": 222,
      "outputs": [
        {
          "output_type": "execute_result",
          "data": {
            "text/plain": [
              "array([[0.00000000e+00],\n",
              "       [5.71077220e-04],\n",
              "       [1.54191285e-03],\n",
              "       ...,\n",
              "       [7.26763928e-01],\n",
              "       [7.20938914e-01],\n",
              "       [7.46751936e-01]])"
            ]
          },
          "metadata": {},
          "execution_count": 222
        }
      ]
    },
    {
      "cell_type": "code",
      "source": [
        "#Create training dataset\n",
        "#Create the scaled training dataset\n",
        "train_data = scaled_data[0:training_data_len , :]\n",
        "#split the data to x_train and y_train data sets\n",
        "x_train = []\n",
        "y_train = []\n",
        "\n",
        "for i in range(60, len(train_data)):\n",
        "  x_train.append(train_data[i-60:i, 0])\n",
        "  y_train.append(train_data[i, 0])\n",
        "  if(i<=61):\n",
        "    print(x_train)\n",
        "    print(y_train)\n",
        "    print()\n"
      ],
      "metadata": {
        "colab": {
          "base_uri": "https://localhost:8080/"
        },
        "id": "EZL4SF5ve0-j",
        "outputId": "8edb754a-e76a-40c3-951f-6d8257cd43df"
      },
      "execution_count": 223,
      "outputs": [
        {
          "output_type": "stream",
          "name": "stdout",
          "text": [
            "[array([0.        , 0.00057108, 0.00154191, 0.00059964, 0.00148484,\n",
            "       0.00465436, 0.00485422, 0.0057394 , 0.00382627, 0.00525398,\n",
            "       0.00933727, 0.01130752, 0.01270665, 0.01173582, 0.01130752,\n",
            "       0.01444847, 0.0125068 , 0.01233548, 0.0110505 , 0.01090776,\n",
            "       0.01419149, 0.0147911 , 0.02010221, 0.01984523, 0.02081606,\n",
            "       0.02195826, 0.02244368, 0.01958825, 0.02244368, 0.02195826,\n",
            "       0.02015933, 0.02441393, 0.02544189, 0.02561321, 0.02435681,\n",
            "       0.02607009, 0.02692668, 0.02758346, 0.02872562, 0.0271837 ,\n",
            "       0.02921103, 0.02801176, 0.02641272, 0.02070187, 0.02338598,\n",
            "       0.02724078, 0.0287542 , 0.02878274, 0.03586419, 0.03543589,\n",
            "       0.03774878, 0.03654951, 0.03812   , 0.03694927, 0.03629253,\n",
            "       0.03340852, 0.03469345, 0.04029011, 0.03903372, 0.03703493])]\n",
            "[0.0363496074873465]\n",
            "\n",
            "[array([0.        , 0.00057108, 0.00154191, 0.00059964, 0.00148484,\n",
            "       0.00465436, 0.00485422, 0.0057394 , 0.00382627, 0.00525398,\n",
            "       0.00933727, 0.01130752, 0.01270665, 0.01173582, 0.01130752,\n",
            "       0.01444847, 0.0125068 , 0.01233548, 0.0110505 , 0.01090776,\n",
            "       0.01419149, 0.0147911 , 0.02010221, 0.01984523, 0.02081606,\n",
            "       0.02195826, 0.02244368, 0.01958825, 0.02244368, 0.02195826,\n",
            "       0.02015933, 0.02441393, 0.02544189, 0.02561321, 0.02435681,\n",
            "       0.02607009, 0.02692668, 0.02758346, 0.02872562, 0.0271837 ,\n",
            "       0.02921103, 0.02801176, 0.02641272, 0.02070187, 0.02338598,\n",
            "       0.02724078, 0.0287542 , 0.02878274, 0.03586419, 0.03543589,\n",
            "       0.03774878, 0.03654951, 0.03812   , 0.03694927, 0.03629253,\n",
            "       0.03340852, 0.03469345, 0.04029011, 0.03903372, 0.03703493]), array([0.00057108, 0.00154191, 0.00059964, 0.00148484, 0.00465436,\n",
            "       0.00485422, 0.0057394 , 0.00382627, 0.00525398, 0.00933727,\n",
            "       0.01130752, 0.01270665, 0.01173582, 0.01130752, 0.01444847,\n",
            "       0.0125068 , 0.01233548, 0.0110505 , 0.01090776, 0.01419149,\n",
            "       0.0147911 , 0.02010221, 0.01984523, 0.02081606, 0.02195826,\n",
            "       0.02244368, 0.01958825, 0.02244368, 0.02195826, 0.02015933,\n",
            "       0.02441393, 0.02544189, 0.02561321, 0.02435681, 0.02607009,\n",
            "       0.02692668, 0.02758346, 0.02872562, 0.0271837 , 0.02921103,\n",
            "       0.02801176, 0.02641272, 0.02070187, 0.02338598, 0.02724078,\n",
            "       0.0287542 , 0.02878274, 0.03586419, 0.03543589, 0.03774878,\n",
            "       0.03654951, 0.03812   , 0.03694927, 0.03629253, 0.03340852,\n",
            "       0.03469345, 0.04029011, 0.03903372, 0.03703493, 0.03634961])]\n",
            "[0.0363496074873465, 0.03800576192384575]\n",
            "\n"
          ]
        }
      ]
    },
    {
      "cell_type": "code",
      "source": [
        "#Convert x_train and y_train to numpy arrays\n",
        "x_train, y_train = np.array(x_train), np.array(y_train)"
      ],
      "metadata": {
        "id": "tr1r1qCaqWdS"
      },
      "execution_count": 224,
      "outputs": []
    },
    {
      "cell_type": "code",
      "source": [
        "#Reshape the data\n",
        "x_train = np.reshape(x_train,(x_train.shape[0], x_train.shape[1], 1))\n",
        "x_train.shape"
      ],
      "metadata": {
        "colab": {
          "base_uri": "https://localhost:8080/"
        },
        "id": "vxsQBvIlq4Xu",
        "outputId": "8168d3a6-c214-45ce-a404-4d77971f17b2"
      },
      "execution_count": 225,
      "outputs": [
        {
          "output_type": "execute_result",
          "data": {
            "text/plain": [
              "(2120, 60, 1)"
            ]
          },
          "metadata": {},
          "execution_count": 225
        }
      ]
    },
    {
      "cell_type": "code",
      "source": [
        "#Build the Lstm Model\n",
        "\n",
        "model = Sequential()\n",
        "model.add(LSTM (50, return_sequences=True,input_shape=(x_train.shape[1], 1)))\n",
        "model.add(LSTM(50, return_sequences= False))\n",
        "model.add(Dense(25))\n",
        "model.add(Dense(1))\n"
      ],
      "metadata": {
        "id": "nf46YlK3r8qm"
      },
      "execution_count": 226,
      "outputs": []
    },
    {
      "cell_type": "code",
      "source": [
        "#Compile the model\n",
        "model.compile(optimizer='adam', loss='mean_squared_error')"
      ],
      "metadata": {
        "id": "wk1md3isyR8i"
      },
      "execution_count": 227,
      "outputs": []
    },
    {
      "cell_type": "code",
      "source": [
        "#Train the model\n",
        "model.fit(x_train, y_train, batch_size=1, epochs=5)"
      ],
      "metadata": {
        "colab": {
          "base_uri": "https://localhost:8080/"
        },
        "id": "zdwOaPHVytqB",
        "outputId": "e9e2d5da-85f0-44e3-a6cd-549fe2ce1281"
      },
      "execution_count": 228,
      "outputs": [
        {
          "output_type": "stream",
          "name": "stdout",
          "text": [
            "Epoch 1/5\n",
            "2120/2120 [==============================] - 74s 33ms/step - loss: 7.4631e-04\n",
            "Epoch 2/5\n",
            "2120/2120 [==============================] - 58s 28ms/step - loss: 2.5362e-04\n",
            "Epoch 3/5\n",
            "2120/2120 [==============================] - 61s 29ms/step - loss: 1.9429e-04\n",
            "Epoch 4/5\n",
            "2120/2120 [==============================] - 57s 27ms/step - loss: 1.6336e-04\n",
            "Epoch 5/5\n",
            "2120/2120 [==============================] - 57s 27ms/step - loss: 1.6558e-04\n"
          ]
        },
        {
          "output_type": "execute_result",
          "data": {
            "text/plain": [
              "<keras.callbacks.History at 0x7f697151ccd0>"
            ]
          },
          "metadata": {},
          "execution_count": 228
        }
      ]
    },
    {
      "cell_type": "code",
      "source": [
        "#Create testing dataset\n",
        "#Create new array containing scaled values from index 2104 to 2705\n",
        "test_data = scaled_data[training_data_len - 60: , :]\n",
        "#Create the data sets x_test and y_test\n",
        "x_test = []\n",
        "y_test = dataset[training_data_len: , :]\n",
        "for i in range(60, len(test_data)):\n",
        "  x_test.append(test_data[i-60: i, 0])"
      ],
      "metadata": {
        "id": "RoXrU0b2zve0"
      },
      "execution_count": 229,
      "outputs": []
    },
    {
      "cell_type": "code",
      "source": [
        "#Convert data to a numpy array\n",
        "x_test = np.array(x_test)"
      ],
      "metadata": {
        "id": "Lje_Mm_72Ec7"
      },
      "execution_count": 230,
      "outputs": []
    },
    {
      "cell_type": "code",
      "source": [
        "#Reshape the data\n",
        "x_test = np.reshape(x_test,(x_test.shape[0],x_test.shape[1], 1))"
      ],
      "metadata": {
        "id": "-HyeE80z2u0W"
      },
      "execution_count": 231,
      "outputs": []
    },
    {
      "cell_type": "code",
      "source": [
        "#Get models predicted value\n",
        "predictions = model.predict(x_test)\n",
        "predictions = scaler.inverse_transform(predictions)\n"
      ],
      "metadata": {
        "colab": {
          "base_uri": "https://localhost:8080/"
        },
        "id": "Vf85ydGd3nv4",
        "outputId": "5f266e90-552d-47e4-e8d9-6fb6dca792b8"
      },
      "execution_count": 232,
      "outputs": [
        {
          "output_type": "stream",
          "name": "stdout",
          "text": [
            "18/18 [==============================] - 1s 17ms/step\n"
          ]
        }
      ]
    },
    {
      "cell_type": "code",
      "source": [
        "#Get the root mean squared error\n",
        "rmse = np.sqrt(np.mean(predictions - y_test)**2)\n",
        "\n",
        "rmse"
      ],
      "metadata": {
        "colab": {
          "base_uri": "https://localhost:8080/"
        },
        "id": "vWlVro6t5MgS",
        "outputId": "b3d4cc03-8ae1-4d94-f87c-739f984779ae"
      },
      "execution_count": 233,
      "outputs": [
        {
          "output_type": "execute_result",
          "data": {
            "text/plain": [
              "0.3494538193448968"
            ]
          },
          "metadata": {},
          "execution_count": 233
        }
      ]
    },
    {
      "cell_type": "code",
      "source": [
        "#Plot the data\n",
        "train = data[:training_data_len]\n",
        "valid = data[training_data_len:]\n",
        "valid['Predictions'] = predictions\n",
        "#Visualize the model\n",
        "plt.figure(figsize=(16,8))\n",
        "plt.title('Model')\n",
        "plt.xlabel('date', fontsize = 18)\n",
        "plt.ylabel('close', fontsize = 18)\n",
        "plt.plot(train['Close'])\n",
        "plt.plot(valid[['Close', 'Predictions']])\n",
        "plt.legend(['Train', 'Val', 'Predictions'], loc='lower right')\n",
        "plt.show()"
      ],
      "metadata": {
        "colab": {
          "base_uri": "https://localhost:8080/",
          "height": 662
        },
        "id": "EP3EbaPF6VR5",
        "outputId": "0d1a4a69-ca17-4c72-9aec-2ae187a01912"
      },
      "execution_count": 234,
      "outputs": [
        {
          "output_type": "stream",
          "name": "stderr",
          "text": [
            "/usr/local/lib/python3.7/dist-packages/ipykernel_launcher.py:4: SettingWithCopyWarning: \n",
            "A value is trying to be set on a copy of a slice from a DataFrame.\n",
            "Try using .loc[row_indexer,col_indexer] = value instead\n",
            "\n",
            "See the caveats in the documentation: https://pandas.pydata.org/pandas-docs/stable/user_guide/indexing.html#returning-a-view-versus-a-copy\n",
            "  after removing the cwd from sys.path.\n"
          ]
        },
        {
          "output_type": "display_data",
          "data": {
            "text/plain": [
              "<Figure size 1152x576 with 1 Axes>"
            ],
            "image/png": "[encoded data removed]"
          },
          "metadata": {}
        }
      ]
    },
    {
      "cell_type": "code",
      "source": [
        "#show the valid and predicted prices\n",
        "valid"
      ],
      "metadata": {
        "colab": {
          "base_uri": "https://localhost:8080/",
          "height": 455
        },
        "id": "ElVcGH5S-Oqz",
        "outputId": "904062aa-3642-4d1c-de11-03ea22c398cd"
      },
      "execution_count": 235,
      "outputs": [
        {
          "output_type": "execute_result",
          "data": {
            "text/plain": [
              "                 Close  Predictions\n",
              "Date                               \n",
              "2020-09-01  352.600006   349.718964\n",
              "2020-09-02  357.700012   352.451508\n",
              "2020-09-03  345.390015   358.448853\n",
              "2020-09-04  342.570007   346.782471\n",
              "2020-09-08  333.209991   340.469879\n",
              "...                ...          ...\n",
              "2022-10-24  378.869995   373.519714\n",
              "2022-10-25  384.920013   381.083557\n",
              "2022-10-26  382.019989   387.297913\n",
              "2022-10-27  379.980011   383.482239\n",
              "2022-10-28  389.019989   378.995056\n",
              "\n",
              "[545 rows x 2 columns]"
            ],
            "text/html": [
              "\n",
              "  <div id=\"df-533b6474-d213-4c96-a588-ba8acdf1005b\">\n",
              "    <div class=\"colab-df-container\">\n",
              "      <div>\n",
              "<style scoped>\n",
              "    .dataframe tbody tr th:only-of-type {\n",
              "        vertical-align: middle;\n",
              "    }\n",
              "\n",
              "    .dataframe tbody tr th {\n",
              "        vertical-align: top;\n",
              "    }\n",
              "\n",
              "    .dataframe thead th {\n",
              "        text-align: right;\n",
              "    }\n",
              "</style>\n",
              "<table border=\"1\" class=\"dataframe\">\n",
              "  <thead>\n",
              "    <tr style=\"text-align: right;\">\n",
              "      <th></th>\n",
              "      <th>Close</th>\n",
              "      <th>Predictions</th>\n",
              "    </tr>\n",
              "    <tr>\n",
              "      <th>Date</th>\n",
              "      <th></th>\n",
              "      <th></th>\n",
              "    </tr>\n",
              "  </thead>\n",
              "  <tbody>\n",
              "    <tr>\n",
              "      <th>2020-09-01</th>\n",
              "      <td>352.600006</td>\n",
              "      <td>349.718964</td>\n",
              "    </tr>\n",
              "    <tr>\n",
              "      <th>2020-09-02</th>\n",
              "      <td>357.700012</td>\n",
              "      <td>352.451508</td>\n",
              "    </tr>\n",
              "    <tr>\n",
              "      <th>2020-09-03</th>\n",
              "      <td>345.390015</td>\n",
              "      <td>358.448853</td>\n",
              "    </tr>\n",
              "    <tr>\n",
              "      <th>2020-09-04</th>\n",
              "      <td>342.570007</td>\n",
              "      <td>346.782471</td>\n",
              "    </tr>\n",
              "    <tr>\n",
              "      <th>2020-09-08</th>\n",
              "      <td>333.209991</td>\n",
              "      <td>340.469879</td>\n",
              "    </tr>\n",
              "    <tr>\n",
              "      <th>...</th>\n",
              "      <td>...</td>\n",
              "      <td>...</td>\n",
              "    </tr>\n",
              "    <tr>\n",
              "      <th>2022-10-24</th>\n",
              "      <td>378.869995</td>\n",
              "      <td>373.519714</td>\n",
              "    </tr>\n",
              "    <tr>\n",
              "      <th>2022-10-25</th>\n",
              "      <td>384.920013</td>\n",
              "      <td>381.083557</td>\n",
              "    </tr>\n",
              "    <tr>\n",
              "      <th>2022-10-26</th>\n",
              "      <td>382.019989</td>\n",
              "      <td>387.297913</td>\n",
              "    </tr>\n",
              "    <tr>\n",
              "      <th>2022-10-27</th>\n",
              "      <td>379.980011</td>\n",
              "      <td>383.482239</td>\n",
              "    </tr>\n",
              "    <tr>\n",
              "      <th>2022-10-28</th>\n",
              "      <td>389.019989</td>\n",
              "      <td>378.995056</td>\n",
              "    </tr>\n",
              "  </tbody>\n",
              "</table>\n",
              "<p>545 rows × 2 columns</p>\n",
              "</div>\n",
              "      <button class=\"colab-df-convert\" onclick=\"convertToInteractive('df-533b6474-d213-4c96-a588-ba8acdf1005b')\"\n",
              "              title=\"Convert this dataframe to an interactive table.\"\n",
              "              style=\"display:none;\">\n",
              "        \n",
              "  <svg xmlns=\"http://www.w3.org/2000/svg\" height=\"24px\"viewBox=\"0 0 24 24\"\n",
              "       width=\"24px\">\n",
              "    <path d=\"M0 0h24v24H0V0z\" fill=\"none\"/>\n",
              "    <path d=\"M18.56 5.44l.94 2.06.94-2.06 2.06-.94-2.06-.94-.94-2.06-.94 2.06-2.06.94zm-11 1L8.5 8.5l.94-2.06 2.06-.94-2.06-.94L8.5 2.5l-.94 2.06-2.06.94zm10 10l.94 2.06.94-2.06 2.06-.94-2.06-.94-.94-2.06-.94 2.06-2.06.94z\"/><path d=\"M17.41 7.96l-1.37-1.37c-.4-.4-.92-.59-1.43-.59-.52 0-1.04.2-1.43.59L10.3 9.45l-7.72 7.72c-.78.78-.78 2.05 0 2.83L4 21.41c.39.39.9.59 1.41.59.51 0 1.02-.2 1.41-.59l7.78-7.78 2.81-2.81c.8-.78.8-2.07 0-2.86zM5.41 20L4 18.59l7.72-7.72 1.47 1.35L5.41 20z\"/>\n",
              "  </svg>\n",
              "      </button>\n",
              "      \n",
              "  <style>\n",
              "    .colab-df-container {\n",
              "      display:flex;\n",
              "      flex-wrap:wrap;\n",
              "      gap: 12px;\n",
              "    }\n",
              "\n",
              "    .colab-df-convert {\n",
              "      background-color: #E8F0FE;\n",
              "      border: none;\n",
              "      border-radius: 50%;\n",
              "      cursor: pointer;\n",
              "      display: none;\n",
              "      fill: #1967D2;\n",
              "      height: 32px;\n",
              "      padding: 0 0 0 0;\n",
              "      width: 32px;\n",
              "    }\n",
              "\n",
              "    .colab-df-convert:hover {\n",
              "      background-color: #E2EBFA;\n",
              "      box-shadow: 0px 1px 2px rgba(60, 64, 67, 0.3), 0px 1px 3px 1px rgba(60, 64, 67, 0.15);\n",
              "      fill: #174EA6;\n",
              "    }\n",
              "\n",
              "    [theme=dark] .colab-df-convert {\n",
              "      background-color: #3B4455;\n",
              "      fill: #D2E3FC;\n",
              "    }\n",
              "\n",
              "    [theme=dark] .colab-df-convert:hover {\n",
              "      background-color: #434B5C;\n",
              "      box-shadow: 0px 1px 3px 1px rgba(0, 0, 0, 0.15);\n",
              "      filter: drop-shadow(0px 1px 2px rgba(0, 0, 0, 0.3));\n",
              "      fill: #FFFFFF;\n",
              "    }\n",
              "  </style>\n",
              "\n",
              "      <script>\n",
              "        const buttonEl =\n",
              "          document.querySelector('#df-533b6474-d213-4c96-a588-ba8acdf1005b button.colab-df-convert');\n",
              "        buttonEl.style.display =\n",
              "          google.colab.kernel.accessAllowed ? 'block' : 'none';\n",
              "\n",
              "        async function convertToInteractive(key) {\n",
              "          const element = document.querySelector('#df-533b6474-d213-4c96-a588-ba8acdf1005b');\n",
              "          const dataTable =\n",
              "            await google.colab.kernel.invokeFunction('convertToInteractive',\n",
              "                                                     [key], {});\n",
              "          if (!dataTable) return;\n",
              "\n",
              "          const docLinkHtml = 'Like what you see? Visit the ' +\n",
              "            '<a target=\"_blank\" href=https://colab.research.google.com/notebooks/data_table.ipynb>data table notebook</a>'\n",
              "            + ' to learn more about interactive tables.';\n",
              "          element.innerHTML = '';\n",
              "          dataTable['output_type'] = 'display_data';\n",
              "          await google.colab.output.renderOutput(dataTable, element);\n",
              "          const docLink = document.createElement('div');\n",
              "          docLink.innerHTML = docLinkHtml;\n",
              "          element.appendChild(docLink);\n",
              "        }\n",
              "      </script>\n",
              "    </div>\n",
              "  </div>\n",
              "  "
            ]
          },
          "metadata": {},
          "execution_count": 235
        }
      ]
    },
    {
      "cell_type": "code",
      "source": [
        "Quote = ['MSFT','AAPL','TSLA','SPY']\n",
        "for i in range(len(Quote)):\n",
        "  EndDate = '2021-11-03'\n",
        "  apple_quote = web.DataReader(Quote[i], data_source = 'yahoo', start = '2012-01-01', end = EndDate)\n",
        "  new_df = apple_quote.filter(['Close'])\n",
        "  last_60_days = new_df[-60:].values\n",
        "  last_60_days_scaled = scaler.transform(last_60_days)\n",
        "  X_test = []\n",
        "  X_test.append(last_60_days_scaled)\n",
        "  X_test = np.array(X_test)\n",
        "  X_test = np.reshape(X_test, (X_test.shape[0], X_test.shape[1], 1))\n",
        "  pred_price = model.predict(X_test)\n",
        "  pred_price = scaler.inverse_transform(pred_price)\n",
        "  print(\"Prediction for \" + Quote[i] + \" on \" + str(EndDate) + \" close is \" + str(pred_price[0,0]))\n"
      ],
      "metadata": {
        "colab": {
          "base_uri": "https://localhost:8080/"
        },
        "id": "DW-SdCVq_AFX",
        "outputId": "8fd4db3b-97d1-4136-997e-10b860d53147"
      },
      "execution_count": 285,
      "outputs": [
        {
          "output_type": "stream",
          "name": "stdout",
          "text": [
            "1/1 [==============================] - 0s 33ms/step\n",
            "Prediction for MSFT on 2021-11-03 close is 333.62262\n",
            "1/1 [==============================] - 0s 37ms/step\n",
            "Prediction for AAPL on 2021-11-03 close is 148.4952\n",
            "1/1 [==============================] - 0s 38ms/step\n",
            "Prediction for TSLA on 2021-11-03 close is 401.47116\n",
            "1/1 [==============================] - 0s 26ms/step\n",
            "Prediction for SPY on 2021-11-03 close is 465.22195\n"
          ]
        }
      ]
    },
    {
      "cell_type": "code",
      "source": [
        "for i in range(len(Quote)):\n",
        "  apple_quote2 = web.DataReader(Quote[i], data_source = 'yahoo', start = EndDate, end = EndDate)\n",
        "  print(str(Quote[i]) + \" \" + str(apple_quote2['Close']))"
      ],
      "metadata": {
        "colab": {
          "base_uri": "https://localhost:8080/"
        },
        "id": "Mpl-nJgeDWeF",
        "outputId": "0e986702-b2e8-4bf8-daa5-b90d215ccfe3"
      },
      "execution_count": 286,
      "outputs": [
        {
          "output_type": "stream",
          "name": "stdout",
          "text": [
            "MSFT Date\n",
            "2021-11-03    334\n",
            "Name: Close, dtype: int64\n",
            "AAPL Date\n",
            "2021-11-03    151.490005\n",
            "Name: Close, dtype: float64\n",
            "TSLA Date\n",
            "2021-11-03    404.619995\n",
            "Name: Close, dtype: float64\n",
            "SPY Date\n",
            "2021-11-03    464.720001\n",
            "Name: Close, dtype: float64\n"
          ]
        }
      ]
    }
  ],
  "metadata": {
    "colab": {
      "provenance": [],
      "authorship_tag": "ABX9TyNbBO2HE6oP9lmv3C2b2+iL",
      "include_colab_link": true
    },
    "kernelspec": {
      "display_name": "Python 3",
      "name": "python3"
    },
    "language_info": {
      "name": "python"
    }
  },
  "nbformat": 4,
  "nbformat_minor": 0
}
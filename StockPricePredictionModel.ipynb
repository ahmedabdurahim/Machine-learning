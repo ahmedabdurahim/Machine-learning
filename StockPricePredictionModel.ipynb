{
  "cells": [
    {
      "cell_type": "markdown",
      "metadata": {
        "id": "view-in-github",
        "colab_type": "text"
      },
      "source": [
        "<a href=\"https://colab.research.google.com/github/ahmedabdurahim/Machine-learning/blob/main/StockPricePredictionModel.ipynb\" target=\"_parent\"><img src=\"https://colab.research.google.com/assets/colab-badge.svg\" alt=\"Open In Colab\"/></a>"
      ]
    },
    {
      "cell_type": "code",
      "execution_count": 157,
      "metadata": {
        "colab": {
          "base_uri": "https://localhost:8080/"
        },
        "id": "GHzY7TazVBtu",
        "outputId": "3ff94b41-7ae0-46c0-8916-d66abf41c534"
      },
      "outputs": [
        {
          "output_type": "stream",
          "name": "stdout",
          "text": [
            "Looking in indexes: https://pypi.org/simple, https://us-python.pkg.dev/colab-wheels/public/simple/\n",
            "Requirement already satisfied: pandas-datareader in /usr/local/lib/python3.7/dist-packages (0.10.0)\n",
            "Requirement already satisfied: requests>=2.19.0 in /usr/local/lib/python3.7/dist-packages (from pandas-datareader) (2.23.0)\n",
            "Requirement already satisfied: pandas>=0.23 in /usr/local/lib/python3.7/dist-packages (from pandas-datareader) (1.3.5)\n",
            "Requirement already satisfied: lxml in /usr/local/lib/python3.7/dist-packages (from pandas-datareader) (4.9.1)\n",
            "Requirement already satisfied: numpy>=1.17.3 in /usr/local/lib/python3.7/dist-packages (from pandas>=0.23->pandas-datareader) (1.21.6)\n",
            "Requirement already satisfied: python-dateutil>=2.7.3 in /usr/local/lib/python3.7/dist-packages (from pandas>=0.23->pandas-datareader) (2.8.2)\n",
            "Requirement already satisfied: pytz>=2017.3 in /usr/local/lib/python3.7/dist-packages (from pandas>=0.23->pandas-datareader) (2022.6)\n",
            "Requirement already satisfied: six>=1.5 in /usr/local/lib/python3.7/dist-packages (from python-dateutil>=2.7.3->pandas>=0.23->pandas-datareader) (1.15.0)\n",
            "Requirement already satisfied: urllib3!=1.25.0,!=1.25.1,<1.26,>=1.21.1 in /usr/local/lib/python3.7/dist-packages (from requests>=2.19.0->pandas-datareader) (1.24.3)\n",
            "Requirement already satisfied: idna<3,>=2.5 in /usr/local/lib/python3.7/dist-packages (from requests>=2.19.0->pandas-datareader) (2.10)\n",
            "Requirement already satisfied: certifi>=2017.4.17 in /usr/local/lib/python3.7/dist-packages (from requests>=2.19.0->pandas-datareader) (2022.9.24)\n",
            "Requirement already satisfied: chardet<4,>=3.0.2 in /usr/local/lib/python3.7/dist-packages (from requests>=2.19.0->pandas-datareader) (3.0.4)\n"
          ]
        }
      ],
      "source": [
        "!pip install --upgrade pandas-datareader"
      ]
    },
    {
      "cell_type": "code",
      "execution_count": 158,
      "metadata": {
        "id": "P1Omyfm4SfzP"
      },
      "outputs": [],
      "source": [
        "import math\n",
        "import pandas_datareader as web\n",
        "import numpy as np\n",
        "import pandas as pd\n",
        "from sklearn.preprocessing import MinMaxScaler\n",
        "from keras.models import Sequential\n",
        "from keras.layers import Dense, LSTM\n",
        "import matplotlib.pyplot as plt\n",
        "\n",
        "plt.style.use('fivethirtyeight')"
      ]
    },
    {
      "cell_type": "code",
      "execution_count": 159,
      "metadata": {
        "colab": {
          "base_uri": "https://localhost:8080/",
          "height": 455
        },
        "id": "qmR7Rq5bTpXn",
        "outputId": "cbe37695-46bd-4f8d-faf0-b747ac72624b"
      },
      "outputs": [
        {
          "output_type": "execute_result",
          "data": {
            "text/plain": [
              "                  High         Low        Open       Close       Volume  \\\n",
              "Date                                                                      \n",
              "2000-01-03  148.250000  143.875000  148.250000  145.437500    8164300.0   \n",
              "2000-01-04  144.062500  139.640625  143.531250  139.750000    8089800.0   \n",
              "2000-01-05  141.531250  137.250000  139.937500  140.000000   12177900.0   \n",
              "2000-01-06  141.500000  137.750000  139.625000  137.750000    6227200.0   \n",
              "2000-01-07  145.750000  140.062500  140.312500  145.750000    8066500.0   \n",
              "...                ...         ...         ...         ...          ...   \n",
              "2022-10-24  380.059998  373.109985  375.890015  378.869995   85436900.0   \n",
              "2022-10-25  385.250000  378.670013  378.790009  384.920013   78846300.0   \n",
              "2022-10-26  387.579987  381.350006  381.619995  382.019989  104087300.0   \n",
              "2022-10-27  385.000000  379.329987  383.070007  379.980011   81971800.0   \n",
              "2022-10-28  389.519989  379.679993  379.869995  389.019989  100302000.0   \n",
              "\n",
              "             Adj Close  \n",
              "Date                    \n",
              "2000-01-03   95.746445  \n",
              "2000-01-04   92.002174  \n",
              "2000-01-05   92.166801  \n",
              "2000-01-06   90.685509  \n",
              "2000-01-07   95.952225  \n",
              "...                ...  \n",
              "2022-10-24  378.869995  \n",
              "2022-10-25  384.920013  \n",
              "2022-10-26  382.019989  \n",
              "2022-10-27  379.980011  \n",
              "2022-10-28  389.019989  \n",
              "\n",
              "[5744 rows x 6 columns]"
            ],
            "text/html": [
              "\n",
              "  <div id=\"df-bea3e909-91a3-4e3d-9a15-b3d55e6ccc5f\">\n",
              "    <div class=\"colab-df-container\">\n",
              "      <div>\n",
              "<style scoped>\n",
              "    .dataframe tbody tr th:only-of-type {\n",
              "        vertical-align: middle;\n",
              "    }\n",
              "\n",
              "    .dataframe tbody tr th {\n",
              "        vertical-align: top;\n",
              "    }\n",
              "\n",
              "    .dataframe thead th {\n",
              "        text-align: right;\n",
              "    }\n",
              "</style>\n",
              "<table border=\"1\" class=\"dataframe\">\n",
              "  <thead>\n",
              "    <tr style=\"text-align: right;\">\n",
              "      <th></th>\n",
              "      <th>High</th>\n",
              "      <th>Low</th>\n",
              "      <th>Open</th>\n",
              "      <th>Close</th>\n",
              "      <th>Volume</th>\n",
              "      <th>Adj Close</th>\n",
              "    </tr>\n",
              "    <tr>\n",
              "      <th>Date</th>\n",
              "      <th></th>\n",
              "      <th></th>\n",
              "      <th></th>\n",
              "      <th></th>\n",
              "      <th></th>\n",
              "      <th></th>\n",
              "    </tr>\n",
              "  </thead>\n",
              "  <tbody>\n",
              "    <tr>\n",
              "      <th>2000-01-03</th>\n",
              "      <td>148.250000</td>\n",
              "      <td>143.875000</td>\n",
              "      <td>148.250000</td>\n",
              "      <td>145.437500</td>\n",
              "      <td>8164300.0</td>\n",
              "      <td>95.746445</td>\n",
              "    </tr>\n",
              "    <tr>\n",
              "      <th>2000-01-04</th>\n",
              "      <td>144.062500</td>\n",
              "      <td>139.640625</td>\n",
              "      <td>143.531250</td>\n",
              "      <td>139.750000</td>\n",
              "      <td>8089800.0</td>\n",
              "      <td>92.002174</td>\n",
              "    </tr>\n",
              "    <tr>\n",
              "      <th>2000-01-05</th>\n",
              "      <td>141.531250</td>\n",
              "      <td>137.250000</td>\n",
              "      <td>139.937500</td>\n",
              "      <td>140.000000</td>\n",
              "      <td>12177900.0</td>\n",
              "      <td>92.166801</td>\n",
              "    </tr>\n",
              "    <tr>\n",
              "      <th>2000-01-06</th>\n",
              "      <td>141.500000</td>\n",
              "      <td>137.750000</td>\n",
              "      <td>139.625000</td>\n",
              "      <td>137.750000</td>\n",
              "      <td>6227200.0</td>\n",
              "      <td>90.685509</td>\n",
              "    </tr>\n",
              "    <tr>\n",
              "      <th>2000-01-07</th>\n",
              "      <td>145.750000</td>\n",
              "      <td>140.062500</td>\n",
              "      <td>140.312500</td>\n",
              "      <td>145.750000</td>\n",
              "      <td>8066500.0</td>\n",
              "      <td>95.952225</td>\n",
              "    </tr>\n",
              "    <tr>\n",
              "      <th>...</th>\n",
              "      <td>...</td>\n",
              "      <td>...</td>\n",
              "      <td>...</td>\n",
              "      <td>...</td>\n",
              "      <td>...</td>\n",
              "      <td>...</td>\n",
              "    </tr>\n",
              "    <tr>\n",
              "      <th>2022-10-24</th>\n",
              "      <td>380.059998</td>\n",
              "      <td>373.109985</td>\n",
              "      <td>375.890015</td>\n",
              "      <td>378.869995</td>\n",
              "      <td>85436900.0</td>\n",
              "      <td>378.869995</td>\n",
              "    </tr>\n",
              "    <tr>\n",
              "      <th>2022-10-25</th>\n",
              "      <td>385.250000</td>\n",
              "      <td>378.670013</td>\n",
              "      <td>378.790009</td>\n",
              "      <td>384.920013</td>\n",
              "      <td>78846300.0</td>\n",
              "      <td>384.920013</td>\n",
              "    </tr>\n",
              "    <tr>\n",
              "      <th>2022-10-26</th>\n",
              "      <td>387.579987</td>\n",
              "      <td>381.350006</td>\n",
              "      <td>381.619995</td>\n",
              "      <td>382.019989</td>\n",
              "      <td>104087300.0</td>\n",
              "      <td>382.019989</td>\n",
              "    </tr>\n",
              "    <tr>\n",
              "      <th>2022-10-27</th>\n",
              "      <td>385.000000</td>\n",
              "      <td>379.329987</td>\n",
              "      <td>383.070007</td>\n",
              "      <td>379.980011</td>\n",
              "      <td>81971800.0</td>\n",
              "      <td>379.980011</td>\n",
              "    </tr>\n",
              "    <tr>\n",
              "      <th>2022-10-28</th>\n",
              "      <td>389.519989</td>\n",
              "      <td>379.679993</td>\n",
              "      <td>379.869995</td>\n",
              "      <td>389.019989</td>\n",
              "      <td>100302000.0</td>\n",
              "      <td>389.019989</td>\n",
              "    </tr>\n",
              "  </tbody>\n",
              "</table>\n",
              "<p>5744 rows × 6 columns</p>\n",
              "</div>\n",
              "      <button class=\"colab-df-convert\" onclick=\"convertToInteractive('df-bea3e909-91a3-4e3d-9a15-b3d55e6ccc5f')\"\n",
              "              title=\"Convert this dataframe to an interactive table.\"\n",
              "              style=\"display:none;\">\n",
              "        \n",
              "  <svg xmlns=\"http://www.w3.org/2000/svg\" height=\"24px\"viewBox=\"0 0 24 24\"\n",
              "       width=\"24px\">\n",
              "    <path d=\"M0 0h24v24H0V0z\" fill=\"none\"/>\n",
              "    <path d=\"M18.56 5.44l.94 2.06.94-2.06 2.06-.94-2.06-.94-.94-2.06-.94 2.06-2.06.94zm-11 1L8.5 8.5l.94-2.06 2.06-.94-2.06-.94L8.5 2.5l-.94 2.06-2.06.94zm10 10l.94 2.06.94-2.06 2.06-.94-2.06-.94-.94-2.06-.94 2.06-2.06.94z\"/><path d=\"M17.41 7.96l-1.37-1.37c-.4-.4-.92-.59-1.43-.59-.52 0-1.04.2-1.43.59L10.3 9.45l-7.72 7.72c-.78.78-.78 2.05 0 2.83L4 21.41c.39.39.9.59 1.41.59.51 0 1.02-.2 1.41-.59l7.78-7.78 2.81-2.81c.8-.78.8-2.07 0-2.86zM5.41 20L4 18.59l7.72-7.72 1.47 1.35L5.41 20z\"/>\n",
              "  </svg>\n",
              "      </button>\n",
              "      \n",
              "  <style>\n",
              "    .colab-df-container {\n",
              "      display:flex;\n",
              "      flex-wrap:wrap;\n",
              "      gap: 12px;\n",
              "    }\n",
              "\n",
              "    .colab-df-convert {\n",
              "      background-color: #E8F0FE;\n",
              "      border: none;\n",
              "      border-radius: 50%;\n",
              "      cursor: pointer;\n",
              "      display: none;\n",
              "      fill: #1967D2;\n",
              "      height: 32px;\n",
              "      padding: 0 0 0 0;\n",
              "      width: 32px;\n",
              "    }\n",
              "\n",
              "    .colab-df-convert:hover {\n",
              "      background-color: #E2EBFA;\n",
              "      box-shadow: 0px 1px 2px rgba(60, 64, 67, 0.3), 0px 1px 3px 1px rgba(60, 64, 67, 0.15);\n",
              "      fill: #174EA6;\n",
              "    }\n",
              "\n",
              "    [theme=dark] .colab-df-convert {\n",
              "      background-color: #3B4455;\n",
              "      fill: #D2E3FC;\n",
              "    }\n",
              "\n",
              "    [theme=dark] .colab-df-convert:hover {\n",
              "      background-color: #434B5C;\n",
              "      box-shadow: 0px 1px 3px 1px rgba(0, 0, 0, 0.15);\n",
              "      filter: drop-shadow(0px 1px 2px rgba(0, 0, 0, 0.3));\n",
              "      fill: #FFFFFF;\n",
              "    }\n",
              "  </style>\n",
              "\n",
              "      <script>\n",
              "        const buttonEl =\n",
              "          document.querySelector('#df-bea3e909-91a3-4e3d-9a15-b3d55e6ccc5f button.colab-df-convert');\n",
              "        buttonEl.style.display =\n",
              "          google.colab.kernel.accessAllowed ? 'block' : 'none';\n",
              "\n",
              "        async function convertToInteractive(key) {\n",
              "          const element = document.querySelector('#df-bea3e909-91a3-4e3d-9a15-b3d55e6ccc5f');\n",
              "          const dataTable =\n",
              "            await google.colab.kernel.invokeFunction('convertToInteractive',\n",
              "                                                     [key], {});\n",
              "          if (!dataTable) return;\n",
              "\n",
              "          const docLinkHtml = 'Like what you see? Visit the ' +\n",
              "            '<a target=\"_blank\" href=https://colab.research.google.com/notebooks/data_table.ipynb>data table notebook</a>'\n",
              "            + ' to learn more about interactive tables.';\n",
              "          element.innerHTML = '';\n",
              "          dataTable['output_type'] = 'display_data';\n",
              "          await google.colab.output.renderOutput(dataTable, element);\n",
              "          const docLink = document.createElement('div');\n",
              "          docLink.innerHTML = docLinkHtml;\n",
              "          element.appendChild(docLink);\n",
              "        }\n",
              "      </script>\n",
              "    </div>\n",
              "  </div>\n",
              "  "
            ]
          },
          "metadata": {},
          "execution_count": 159
        }
      ],
      "source": [
        "df = web.DataReader('SPY', data_source = 'yahoo', start = '2000-01-01', end = '2022-10-30')\n",
        "#show the data\n",
        "\n",
        "df"
      ]
    },
    {
      "cell_type": "code",
      "execution_count": 160,
      "metadata": {
        "colab": {
          "base_uri": "https://localhost:8080/"
        },
        "id": "kJiYRMHwVXLm",
        "outputId": "264058f5-f815-4ca2-b79d-e34ecf4dff3f"
      },
      "outputs": [
        {
          "output_type": "execute_result",
          "data": {
            "text/plain": [
              "(5744, 6)"
            ]
          },
          "metadata": {},
          "execution_count": 160
        }
      ],
      "source": [
        "df.shape"
      ]
    },
    {
      "cell_type": "code",
      "execution_count": 161,
      "metadata": {
        "colab": {
          "base_uri": "https://localhost:8080/",
          "height": 558
        },
        "id": "KrMV31ItVgqX",
        "outputId": "978c121a-a5a0-41c7-e428-4c2744a5e3a2"
      },
      "outputs": [
        {
          "output_type": "display_data",
          "data": {
            "text/plain": [
              "<Figure size 1152x576 with 1 Axes>"
            ],
            "image/png": "[encoded data removed]"
          },
          "metadata": {}
        }
      ],
      "source": [
        "#Visualizing the closing price history\n",
        "plt.figure(figsize=(16,8))\n",
        "plt.title('Close Price History')\n",
        "plt.plot(df['Close'])\n",
        "plt.xlabel('Date', fontsize=18)\n",
        "plt.ylabel('Close Price USD ($)', fontsize=18)\n",
        "plt.show()"
      ]
    },
    {
      "cell_type": "code",
      "execution_count": 162,
      "metadata": {
        "colab": {
          "base_uri": "https://localhost:8080/"
        },
        "id": "U1uFt6FsYmTz",
        "outputId": "cc36c9da-f56f-440a-cf50-b9621b1e0172"
      },
      "outputs": [
        {
          "output_type": "execute_result",
          "data": {
            "text/plain": [
              "4596"
            ]
          },
          "metadata": {},
          "execution_count": 162
        }
      ],
      "source": [
        "# New DataFrame with only Close column\n",
        "data = df.filter(['Close'])\n",
        "#Convert the datafram to a numpy array\n",
        "dataset = data.values\n",
        "#Get no of rows to train model on\n",
        "training_data_len = math.ceil(len(dataset) * .8)\n",
        "\n",
        "training_data_len"
      ]
    },
    {
      "cell_type": "code",
      "execution_count": 163,
      "metadata": {
        "colab": {
          "base_uri": "https://localhost:8080/"
        },
        "id": "FN8RtQbVaHV6",
        "outputId": "0894044c-b903-427b-f762-3199fd2ceb91"
      },
      "outputs": [
        {
          "output_type": "execute_result",
          "data": {
            "text/plain": [
              "array([[0.18878784],\n",
              "       [0.17490235],\n",
              "       [0.1755127 ],\n",
              "       ...,\n",
              "       [0.76638182],\n",
              "       [0.76140141],\n",
              "       [0.78347167]])"
            ]
          },
          "metadata": {},
          "execution_count": 163
        }
      ],
      "source": [
        "#scale the data\n",
        "scaler = MinMaxScaler(feature_range=(0,1))\n",
        "scaled_data = scaler.fit_transform(dataset)\n",
        "\n",
        "\n",
        "scaled_data"
      ]
    },
    {
      "cell_type": "code",
      "execution_count": 164,
      "metadata": {
        "colab": {
          "base_uri": "https://localhost:8080/"
        },
        "id": "EZL4SF5ve0-j",
        "outputId": "d824e683-8f52-4612-b4c4-d82bf5dea04f"
      },
      "outputs": [
        {
          "output_type": "stream",
          "name": "stdout",
          "text": [
            "[array([0.18878784, 0.17490235, 0.1755127 , 0.17001953, 0.18955078,\n",
            "       0.19077149, 0.18649903, 0.1829895 , 0.18771973, 0.19252625,\n",
            "       0.18970337, 0.19260254, 0.18710938, 0.18634644, 0.17635193,\n",
            "       0.18024292, 0.17749634, 0.17612305, 0.1654419 , 0.17444458,\n",
            "       0.17780152, 0.17810669, 0.18329468, 0.1818451 , 0.18131104,\n",
            "       0.18604126, 0.17864075, 0.1793274 , 0.17230835, 0.17429199,\n",
            "       0.17814484, 0.17307129, 0.17131653, 0.16406861, 0.16322937,\n",
            "       0.16712036, 0.1604065 , 0.15922394, 0.16605225, 0.16925659,\n",
            "       0.171698  , 0.17192688, 0.17825928, 0.17490235, 0.16830292,\n",
            "       0.1678833 , 0.17764893, 0.17581787, 0.17207947, 0.16727295,\n",
            "       0.17505493, 0.19100037, 0.19244995, 0.1906189 , 0.19794312,\n",
            "       0.20015564, 0.20641175, 0.20862427, 0.20465699, 0.20252075])]\n",
            "[0.20290222472478955]\n",
            "\n",
            "[array([0.18878784, 0.17490235, 0.1755127 , 0.17001953, 0.18955078,\n",
            "       0.19077149, 0.18649903, 0.1829895 , 0.18771973, 0.19252625,\n",
            "       0.18970337, 0.19260254, 0.18710938, 0.18634644, 0.17635193,\n",
            "       0.18024292, 0.17749634, 0.17612305, 0.1654419 , 0.17444458,\n",
            "       0.17780152, 0.17810669, 0.18329468, 0.1818451 , 0.18131104,\n",
            "       0.18604126, 0.17864075, 0.1793274 , 0.17230835, 0.17429199,\n",
            "       0.17814484, 0.17307129, 0.17131653, 0.16406861, 0.16322937,\n",
            "       0.16712036, 0.1604065 , 0.15922394, 0.16605225, 0.16925659,\n",
            "       0.171698  , 0.17192688, 0.17825928, 0.17490235, 0.16830292,\n",
            "       0.1678833 , 0.17764893, 0.17581787, 0.17207947, 0.16727295,\n",
            "       0.17505493, 0.19100037, 0.19244995, 0.1906189 , 0.19794312,\n",
            "       0.20015564, 0.20641175, 0.20862427, 0.20465699, 0.20252075]), array([0.17490235, 0.1755127 , 0.17001953, 0.18955078, 0.19077149,\n",
            "       0.18649903, 0.1829895 , 0.18771973, 0.19252625, 0.18970337,\n",
            "       0.19260254, 0.18710938, 0.18634644, 0.17635193, 0.18024292,\n",
            "       0.17749634, 0.17612305, 0.1654419 , 0.17444458, 0.17780152,\n",
            "       0.17810669, 0.18329468, 0.1818451 , 0.18131104, 0.18604126,\n",
            "       0.17864075, 0.1793274 , 0.17230835, 0.17429199, 0.17814484,\n",
            "       0.17307129, 0.17131653, 0.16406861, 0.16322937, 0.16712036,\n",
            "       0.1604065 , 0.15922394, 0.16605225, 0.16925659, 0.171698  ,\n",
            "       0.17192688, 0.17825928, 0.17490235, 0.16830292, 0.1678833 ,\n",
            "       0.17764893, 0.17581787, 0.17207947, 0.16727295, 0.17505493,\n",
            "       0.19100037, 0.19244995, 0.1906189 , 0.19794312, 0.20015564,\n",
            "       0.20641175, 0.20862427, 0.20465699, 0.20252075, 0.20290222])]\n",
            "[0.20290222472478955, 0.1967224150163475]\n",
            "\n"
          ]
        }
      ],
      "source": [
        "#Create training dataset\n",
        "#Create the scaled training dataset\n",
        "train_data = scaled_data[0:training_data_len , :]\n",
        "#split the data to x_train and y_train data sets\n",
        "x_train = []\n",
        "y_train = []\n",
        "\n",
        "for i in range(60, len(train_data)):\n",
        "  x_train.append(train_data[i-60:i, 0])\n",
        "  y_train.append(train_data[i, 0])\n",
        "  if(i<=61):\n",
        "    print(x_train)\n",
        "    print(y_train)\n",
        "    print()"
      ]
    },
    {
      "cell_type": "code",
      "execution_count": 165,
      "metadata": {
        "id": "tr1r1qCaqWdS"
      },
      "outputs": [],
      "source": [
        "#Convert x_train and y_train to numpy arrays\n",
        "x_train, y_train = np.array(x_train), np.array(y_train)"
      ]
    },
    {
      "cell_type": "code",
      "execution_count": 166,
      "metadata": {
        "colab": {
          "base_uri": "https://localhost:8080/"
        },
        "id": "vxsQBvIlq4Xu",
        "outputId": "32d43f9f-5cb6-4f38-e006-cfe0ecef671c"
      },
      "outputs": [
        {
          "output_type": "execute_result",
          "data": {
            "text/plain": [
              "(4536, 60, 1)"
            ]
          },
          "metadata": {},
          "execution_count": 166
        }
      ],
      "source": [
        "#Reshape the data\n",
        "x_train = np.reshape(x_train,(x_train.shape[0], x_train.shape[1], 1))\n",
        "x_train.shape"
      ]
    },
    {
      "cell_type": "code",
      "execution_count": 167,
      "metadata": {
        "id": "nf46YlK3r8qm"
      },
      "outputs": [],
      "source": [
        "#Build the Lstm Model\n",
        "\n",
        "model = Sequential()\n",
        "model.add(LSTM (50, return_sequences=True,input_shape=(x_train.shape[1], 1)))\n",
        "model.add(LSTM(50, return_sequences= False))\n",
        "model.add(Dense(25))\n",
        "model.add(Dense(1))"
      ]
    },
    {
      "cell_type": "code",
      "execution_count": 168,
      "metadata": {
        "id": "wk1md3isyR8i"
      },
      "outputs": [],
      "source": [
        "#Compile the model\n",
        "model.compile(optimizer='adam', loss='mean_squared_error')"
      ]
    },
    {
      "cell_type": "code",
      "execution_count": 169,
      "metadata": {
        "colab": {
          "base_uri": "https://localhost:8080/"
        },
        "id": "zdwOaPHVytqB",
        "outputId": "1d167c13-aa04-4443-aab0-6475fe254f62"
      },
      "outputs": [
        {
          "output_type": "stream",
          "name": "stdout",
          "text": [
            "Epoch 1/5\n",
            "4536/4536 [==============================] - 145s 31ms/step - loss: 2.0398e-04\n",
            "Epoch 2/5\n",
            "4536/4536 [==============================] - 127s 28ms/step - loss: 9.3412e-05\n",
            "Epoch 3/5\n",
            "4536/4536 [==============================] - 127s 28ms/step - loss: 5.7427e-05\n",
            "Epoch 4/5\n",
            "4536/4536 [==============================] - 128s 28ms/step - loss: 5.6070e-05\n",
            "Epoch 5/5\n",
            "4536/4536 [==============================] - 126s 28ms/step - loss: 4.8878e-05\n"
          ]
        },
        {
          "output_type": "execute_result",
          "data": {
            "text/plain": [
              "<keras.callbacks.History at 0x7f067b084ed0>"
            ]
          },
          "metadata": {},
          "execution_count": 169
        }
      ],
      "source": [
        "#Train the model\n",
        "model.fit(x_train, y_train, batch_size=1, epochs=5)"
      ]
    },
    {
      "cell_type": "code",
      "execution_count": 170,
      "metadata": {
        "id": "RoXrU0b2zve0"
      },
      "outputs": [],
      "source": [
        "#Create testing dataset\n",
        "#Create new array containing scaled values from index 2104 to 2705\n",
        "test_data = scaled_data[training_data_len - 60: , :]\n",
        "#Create the data sets x_test and y_test\n",
        "x_test = []\n",
        "y_test = dataset[training_data_len: , :]\n",
        "for i in range(60, len(test_data)):\n",
        "  x_test.append(test_data[i-60: i, 0])"
      ]
    },
    {
      "cell_type": "code",
      "execution_count": 171,
      "metadata": {
        "id": "Lje_Mm_72Ec7"
      },
      "outputs": [],
      "source": [
        "#Convert data to a numpy array\n",
        "x_test = np.array(x_test)"
      ]
    },
    {
      "cell_type": "code",
      "execution_count": 172,
      "metadata": {
        "id": "-HyeE80z2u0W"
      },
      "outputs": [],
      "source": [
        "#Reshape the data\n",
        "x_test = np.reshape(x_test,(x_test.shape[0],x_test.shape[1], 1))"
      ]
    },
    {
      "cell_type": "code",
      "execution_count": 173,
      "metadata": {
        "id": "Vf85ydGd3nv4",
        "colab": {
          "base_uri": "https://localhost:8080/"
        },
        "outputId": "cde4c777-26c4-4e80-ac59-e4a0b7994449"
      },
      "outputs": [
        {
          "output_type": "stream",
          "name": "stdout",
          "text": [
            "36/36 [==============================] - 2s 18ms/step\n"
          ]
        }
      ],
      "source": [
        "#Get models predicted value\n",
        "predictions = model.predict(x_test)\n",
        "predictions = scaler.inverse_transform(predictions)\n"
      ]
    },
    {
      "cell_type": "code",
      "execution_count": 174,
      "metadata": {
        "id": "vWlVro6t5MgS",
        "colab": {
          "base_uri": "https://localhost:8080/"
        },
        "outputId": "653501f9-d3ed-4970-9e96-0feaf61dce24"
      },
      "outputs": [
        {
          "output_type": "execute_result",
          "data": {
            "text/plain": [
              "4.534252512330378"
            ]
          },
          "metadata": {},
          "execution_count": 174
        }
      ],
      "source": [
        "#Get the root mean squared error\n",
        "rmse = np.sqrt(np.mean(predictions - y_test)**2)\n",
        "\n",
        "rmse"
      ]
    },
    {
      "cell_type": "code",
      "execution_count": 175,
      "metadata": {
        "id": "EP3EbaPF6VR5",
        "colab": {
          "base_uri": "https://localhost:8080/",
          "height": 662
        },
        "outputId": "dbca91c8-0241-4dd5-bfc7-201ce94d701a"
      },
      "outputs": [
        {
          "output_type": "stream",
          "name": "stderr",
          "text": [
            "/usr/local/lib/python3.7/dist-packages/ipykernel_launcher.py:4: SettingWithCopyWarning: \n",
            "A value is trying to be set on a copy of a slice from a DataFrame.\n",
            "Try using .loc[row_indexer,col_indexer] = value instead\n",
            "\n",
            "See the caveats in the documentation: https://pandas.pydata.org/pandas-docs/stable/user_guide/indexing.html#returning-a-view-versus-a-copy\n",
            "  after removing the cwd from sys.path.\n"
          ]
        },
        {
          "output_type": "display_data",
          "data": {
            "text/plain": [
              "<Figure size 1152x576 with 1 Axes>"
            ],
            "image/png": "[encoded data removed]"
          },
          "metadata": {}
        }
      ],
      "source": [
        "#Plot the data\n",
        "train = data[:training_data_len]\n",
        "valid = data[training_data_len:]\n",
        "valid['Predictions'] = predictions\n",
        "#Visualize the model\n",
        "plt.figure(figsize=(16,8))\n",
        "plt.title('Model')\n",
        "plt.xlabel('date', fontsize = 18)\n",
        "plt.ylabel('close', fontsize = 18)\n",
        "plt.plot(train['Close'])\n",
        "plt.plot(valid[['Close', 'Predictions']])\n",
        "plt.legend(['Train', 'Val', 'Predictions'], loc='lower right')\n",
        "plt.show()"
      ]
    },
    {
      "cell_type": "code",
      "execution_count": 176,
      "metadata": {
        "id": "ElVcGH5S-Oqz",
        "colab": {
          "base_uri": "https://localhost:8080/",
          "height": 455
        },
        "outputId": "ccd20bde-182b-4d6c-ae16-f3def840e6fa"
      },
      "outputs": [
        {
          "output_type": "execute_result",
          "data": {
            "text/plain": [
              "                 Close  Predictions\n",
              "Date                               \n",
              "2018-04-11  263.760010   265.383179\n",
              "2018-04-12  265.929993   263.927307\n",
              "2018-04-13  265.149994   266.290527\n",
              "2018-04-16  267.329987   265.220612\n",
              "2018-04-17  270.190002   267.545135\n",
              "...                ...          ...\n",
              "2022-10-24  378.869995   369.752686\n",
              "2022-10-25  384.920013   372.743958\n",
              "2022-10-26  382.019989   378.456512\n",
              "2022-10-27  379.980011   375.452179\n",
              "2022-10-28  389.019989   374.539246\n",
              "\n",
              "[1148 rows x 2 columns]"
            ],
            "text/html": [
              "\n",
              "  <div id=\"df-cd676441-edb0-48d7-82e7-6003ddee376e\">\n",
              "    <div class=\"colab-df-container\">\n",
              "      <div>\n",
              "<style scoped>\n",
              "    .dataframe tbody tr th:only-of-type {\n",
              "        vertical-align: middle;\n",
              "    }\n",
              "\n",
              "    .dataframe tbody tr th {\n",
              "        vertical-align: top;\n",
              "    }\n",
              "\n",
              "    .dataframe thead th {\n",
              "        text-align: right;\n",
              "    }\n",
              "</style>\n",
              "<table border=\"1\" class=\"dataframe\">\n",
              "  <thead>\n",
              "    <tr style=\"text-align: right;\">\n",
              "      <th></th>\n",
              "      <th>Close</th>\n",
              "      <th>Predictions</th>\n",
              "    </tr>\n",
              "    <tr>\n",
              "      <th>Date</th>\n",
              "      <th></th>\n",
              "      <th></th>\n",
              "    </tr>\n",
              "  </thead>\n",
              "  <tbody>\n",
              "    <tr>\n",
              "      <th>2018-04-11</th>\n",
              "      <td>263.760010</td>\n",
              "      <td>265.383179</td>\n",
              "    </tr>\n",
              "    <tr>\n",
              "      <th>2018-04-12</th>\n",
              "      <td>265.929993</td>\n",
              "      <td>263.927307</td>\n",
              "    </tr>\n",
              "    <tr>\n",
              "      <th>2018-04-13</th>\n",
              "      <td>265.149994</td>\n",
              "      <td>266.290527</td>\n",
              "    </tr>\n",
              "    <tr>\n",
              "      <th>2018-04-16</th>\n",
              "      <td>267.329987</td>\n",
              "      <td>265.220612</td>\n",
              "    </tr>\n",
              "    <tr>\n",
              "      <th>2018-04-17</th>\n",
              "      <td>270.190002</td>\n",
              "      <td>267.545135</td>\n",
              "    </tr>\n",
              "    <tr>\n",
              "      <th>...</th>\n",
              "      <td>...</td>\n",
              "      <td>...</td>\n",
              "    </tr>\n",
              "    <tr>\n",
              "      <th>2022-10-24</th>\n",
              "      <td>378.869995</td>\n",
              "      <td>369.752686</td>\n",
              "    </tr>\n",
              "    <tr>\n",
              "      <th>2022-10-25</th>\n",
              "      <td>384.920013</td>\n",
              "      <td>372.743958</td>\n",
              "    </tr>\n",
              "    <tr>\n",
              "      <th>2022-10-26</th>\n",
              "      <td>382.019989</td>\n",
              "      <td>378.456512</td>\n",
              "    </tr>\n",
              "    <tr>\n",
              "      <th>2022-10-27</th>\n",
              "      <td>379.980011</td>\n",
              "      <td>375.452179</td>\n",
              "    </tr>\n",
              "    <tr>\n",
              "      <th>2022-10-28</th>\n",
              "      <td>389.019989</td>\n",
              "      <td>374.539246</td>\n",
              "    </tr>\n",
              "  </tbody>\n",
              "</table>\n",
              "<p>1148 rows × 2 columns</p>\n",
              "</div>\n",
              "      <button class=\"colab-df-convert\" onclick=\"convertToInteractive('df-cd676441-edb0-48d7-82e7-6003ddee376e')\"\n",
              "              title=\"Convert this dataframe to an interactive table.\"\n",
              "              style=\"display:none;\">\n",
              "        \n",
              "  <svg xmlns=\"http://www.w3.org/2000/svg\" height=\"24px\"viewBox=\"0 0 24 24\"\n",
              "       width=\"24px\">\n",
              "    <path d=\"M0 0h24v24H0V0z\" fill=\"none\"/>\n",
              "    <path d=\"M18.56 5.44l.94 2.06.94-2.06 2.06-.94-2.06-.94-.94-2.06-.94 2.06-2.06.94zm-11 1L8.5 8.5l.94-2.06 2.06-.94-2.06-.94L8.5 2.5l-.94 2.06-2.06.94zm10 10l.94 2.06.94-2.06 2.06-.94-2.06-.94-.94-2.06-.94 2.06-2.06.94z\"/><path d=\"M17.41 7.96l-1.37-1.37c-.4-.4-.92-.59-1.43-.59-.52 0-1.04.2-1.43.59L10.3 9.45l-7.72 7.72c-.78.78-.78 2.05 0 2.83L4 21.41c.39.39.9.59 1.41.59.51 0 1.02-.2 1.41-.59l7.78-7.78 2.81-2.81c.8-.78.8-2.07 0-2.86zM5.41 20L4 18.59l7.72-7.72 1.47 1.35L5.41 20z\"/>\n",
              "  </svg>\n",
              "      </button>\n",
              "      \n",
              "  <style>\n",
              "    .colab-df-container {\n",
              "      display:flex;\n",
              "      flex-wrap:wrap;\n",
              "      gap: 12px;\n",
              "    }\n",
              "\n",
              "    .colab-df-convert {\n",
              "      background-color: #E8F0FE;\n",
              "      border: none;\n",
              "      border-radius: 50%;\n",
              "      cursor: pointer;\n",
              "      display: none;\n",
              "      fill: #1967D2;\n",
              "      height: 32px;\n",
              "      padding: 0 0 0 0;\n",
              "      width: 32px;\n",
              "    }\n",
              "\n",
              "    .colab-df-convert:hover {\n",
              "      background-color: #E2EBFA;\n",
              "      box-shadow: 0px 1px 2px rgba(60, 64, 67, 0.3), 0px 1px 3px 1px rgba(60, 64, 67, 0.15);\n",
              "      fill: #174EA6;\n",
              "    }\n",
              "\n",
              "    [theme=dark] .colab-df-convert {\n",
              "      background-color: #3B4455;\n",
              "      fill: #D2E3FC;\n",
              "    }\n",
              "\n",
              "    [theme=dark] .colab-df-convert:hover {\n",
              "      background-color: #434B5C;\n",
              "      box-shadow: 0px 1px 3px 1px rgba(0, 0, 0, 0.15);\n",
              "      filter: drop-shadow(0px 1px 2px rgba(0, 0, 0, 0.3));\n",
              "      fill: #FFFFFF;\n",
              "    }\n",
              "  </style>\n",
              "\n",
              "      <script>\n",
              "        const buttonEl =\n",
              "          document.querySelector('#df-cd676441-edb0-48d7-82e7-6003ddee376e button.colab-df-convert');\n",
              "        buttonEl.style.display =\n",
              "          google.colab.kernel.accessAllowed ? 'block' : 'none';\n",
              "\n",
              "        async function convertToInteractive(key) {\n",
              "          const element = document.querySelector('#df-cd676441-edb0-48d7-82e7-6003ddee376e');\n",
              "          const dataTable =\n",
              "            await google.colab.kernel.invokeFunction('convertToInteractive',\n",
              "                                                     [key], {});\n",
              "          if (!dataTable) return;\n",
              "\n",
              "          const docLinkHtml = 'Like what you see? Visit the ' +\n",
              "            '<a target=\"_blank\" href=https://colab.research.google.com/notebooks/data_table.ipynb>data table notebook</a>'\n",
              "            + ' to learn more about interactive tables.';\n",
              "          element.innerHTML = '';\n",
              "          dataTable['output_type'] = 'display_data';\n",
              "          await google.colab.output.renderOutput(dataTable, element);\n",
              "          const docLink = document.createElement('div');\n",
              "          docLink.innerHTML = docLinkHtml;\n",
              "          element.appendChild(docLink);\n",
              "        }\n",
              "      </script>\n",
              "    </div>\n",
              "  </div>\n",
              "  "
            ]
          },
          "metadata": {},
          "execution_count": 176
        }
      ],
      "source": [
        "#show the valid and predicted prices\n",
        "valid"
      ]
    },
    {
      "cell_type": "code",
      "execution_count": 177,
      "metadata": {
        "id": "DW-SdCVq_AFX",
        "colab": {
          "base_uri": "https://localhost:8080/"
        },
        "outputId": "376fda27-da43-4898-ad7b-3b7c1c596e7c"
      },
      "outputs": [
        {
          "output_type": "stream",
          "name": "stdout",
          "text": [
            "1/1 [==============================] - 0s 26ms/step\n",
            "Prediction for MMM on 2022-11-08 close is 126.10739\n",
            "1/1 [==============================] - 0s 30ms/step\n",
            "Prediction for ABT on 2022-11-08 close is 101.218025\n",
            "1/1 [==============================] - 0s 29ms/step\n",
            "Prediction for ADM on 2022-11-08 close is 98.10662\n",
            "1/1 [==============================] - 0s 27ms/step\n",
            "Prediction for ADBE on 2022-11-08 close is 301.2846\n",
            "1/1 [==============================] - 0s 26ms/step\n",
            "Prediction for T on 2022-11-08 close is 25.838497\n",
            "1/1 [==============================] - 0s 30ms/step\n",
            "Prediction for ADSK on 2022-11-08 close is 200.25757\n",
            "1/1 [==============================] - 0s 30ms/step\n",
            "Prediction for COST on 2022-11-08 close is 470.15448\n",
            "1/1 [==============================] - 0s 25ms/step\n",
            "Prediction for DAL on 2022-11-08 close is 39.386906\n",
            "1/1 [==============================] - 0s 28ms/step\n",
            "Prediction for IBM on 2022-11-08 close is 140.15208\n",
            "1/1 [==============================] - 0s 24ms/step\n",
            "Prediction for MCD on 2022-11-08 close is 277.37552\n",
            "1/1 [==============================] - 0s 25ms/step\n",
            "Prediction for META on 2022-11-08 close is 98.46232\n",
            "1/1 [==============================] - 0s 24ms/step\n",
            "Prediction for MRNA on 2022-11-08 close is 162.58665\n",
            "1/1 [==============================] - 0s 28ms/step\n",
            "Prediction for NFLX on 2022-11-08 close is 265.46912\n"
          ]
        }
      ],
      "source": [
        "Quote = ['MMM','ABT','ADM','ADBE','T','ADSK','COST','DAL','IBM','MCD','META','MRNA','NFLX']\n",
        "for i in range(len(Quote)):\n",
        "  EndDate = '2022-11-08'\n",
        "  apple_quote = web.DataReader(Quote[i], data_source = 'yahoo', start = '2012-01-01', end = EndDate)\n",
        "  new_df = apple_quote.filter(['Close'])\n",
        "  last_60_days = new_df[-60:].values\n",
        "  last_60_days_scaled = scaler.transform(last_60_days)\n",
        "  X_test = []\n",
        "  X_test.append(last_60_days_scaled)\n",
        "  X_test = np.array(X_test)\n",
        "  X_test = np.reshape(X_test, (X_test.shape[0], X_test.shape[1], 1))\n",
        "  pred_price = model.predict(X_test)\n",
        "  pred_price = scaler.inverse_transform(pred_price)\n",
        "  print(\"Prediction for \" + Quote[i] + \" on \" + str(EndDate) + \" close is \" + str(pred_price[0,0]))\n"
      ]
    },
    {
      "cell_type": "code",
      "execution_count": 178,
      "metadata": {
        "id": "Mpl-nJgeDWeF",
        "colab": {
          "base_uri": "https://localhost:8080/"
        },
        "outputId": "39f6f5b9-7e11-4e5f-a68b-c2055f58d7d8"
      },
      "outputs": [
        {
          "output_type": "stream",
          "name": "stdout",
          "text": [
            "MMM Date\n",
            "2022-11-08    125.349998\n",
            "Name: Close, dtype: float64\n",
            "ABT Date\n",
            "2022-11-08    99.639999\n",
            "Name: Close, dtype: float64\n",
            "ADM Date\n",
            "2022-11-08    96.389999\n",
            "Name: Close, dtype: float64\n",
            "ADBE Date\n",
            "2022-11-08    302.170013\n",
            "Name: Close, dtype: float64\n",
            "T Date\n",
            "2022-11-08    18.57\n",
            "Name: Close, dtype: float64\n",
            "ADSK Date\n",
            "2022-11-08    199.009995\n",
            "Name: Close, dtype: float64\n",
            "COST Date\n",
            "2022-11-08    492.76001\n",
            "Name: Close, dtype: float64\n",
            "DAL Date\n",
            "2022-11-08    33.59\n",
            "Name: Close, dtype: float64\n",
            "IBM Date\n",
            "2022-11-08    140.039993\n",
            "Name: Close, dtype: float64\n",
            "MCD Date\n",
            "2022-11-08    278.399994\n",
            "Name: Close, dtype: float64\n",
            "META Date\n",
            "2022-11-08    96.470001\n",
            "Name: Close, dtype: float64\n",
            "MRNA Date\n",
            "2022-11-08    164.610001\n",
            "Name: Close, dtype: float64\n",
            "NFLX Date\n",
            "2022-11-08    263.459991\n",
            "Name: Close, dtype: float64\n"
          ]
        }
      ],
      "source": [
        "for i in range(len(Quote)):\n",
        "  apple_quote2 = web.DataReader(Quote[i], data_source = 'yahoo', start = EndDate, end = EndDate)\n",
        "  print(str(Quote[i]) + \" \" + str(apple_quote2['Close']))"
      ]
    }
  ],
  "metadata": {
    "colab": {
      "provenance": [],
      "collapsed_sections": [],
      "authorship_tag": "ABX9TyMoGN9Gpqh9PAtcwSSlXivF",
      "include_colab_link": true
    },
    "kernelspec": {
      "display_name": "Python 3",
      "name": "python3"
    },
    "language_info": {
      "name": "python"
    }
  },
  "nbformat": 4,
  "nbformat_minor": 0
}
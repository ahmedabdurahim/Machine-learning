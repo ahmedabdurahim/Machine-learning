{
  "cells": [
    {
      "cell_type": "markdown",
      "metadata": {
        "id": "view-in-github",
        "colab_type": "text"
      },
      "source": [
        "<a href=\"https://colab.research.google.com/github/ahmedabdurahim/Machine-learning/blob/main/StockPricePredictionModel.ipynb\" target=\"_parent\"><img src=\"https://colab.research.google.com/assets/colab-badge.svg\" alt=\"Open In Colab\"/></a>"
      ]
    },
    {
      "cell_type": "code",
      "source": [
        "#!pip install --upgrade pandas-datareader"
      ],
      "metadata": {
        "id": "GHzY7TazVBtu"
      },
      "execution_count": 175,
      "outputs": []
    },
    {
      "cell_type": "code",
      "execution_count": 176,
      "metadata": {
        "id": "P1Omyfm4SfzP"
      },
      "outputs": [],
      "source": [
        "import math\n",
        "import pandas_datareader as web\n",
        "import numpy as np\n",
        "import pandas as pd\n",
        "from sklearn.preprocessing import MinMaxScaler\n",
        "from keras.models import Sequential\n",
        "from keras.layers import Dense, LSTM\n",
        "import matplotlib.pyplot as plt\n",
        "\n",
        "plt.style.use('fivethirtyeight')\n"
      ]
    },
    {
      "cell_type": "code",
      "source": [
        "df = web.DataReader('TSLA', data_source = 'yahoo', start = '2012-01-01', end = '2022-10-01')\n",
        "#show the data\n",
        "\n",
        "df"
      ],
      "metadata": {
        "colab": {
          "base_uri": "https://localhost:8080/",
          "height": 455
        },
        "id": "qmR7Rq5bTpXn",
        "outputId": "905f7199-2fc2-4111-8c3a-c2b0f9f45456"
      },
      "execution_count": 177,
      "outputs": [
        {
          "output_type": "execute_result",
          "data": {
            "text/plain": [
              "                  High         Low        Open       Close      Volume  \\\n",
              "Date                                                                     \n",
              "2012-01-03    1.966667    1.843333    1.929333    1.872000  13921500.0   \n",
              "2012-01-04    1.911333    1.833333    1.880667    1.847333   9451500.0   \n",
              "2012-01-05    1.862000    1.790000    1.850667    1.808000  15082500.0   \n",
              "2012-01-06    1.852667    1.760667    1.813333    1.794000  14794500.0   \n",
              "2012-01-09    1.832667    1.741333    1.800000    1.816667  13455000.0   \n",
              "...                ...         ...         ...         ...         ...   \n",
              "2022-09-26  284.089996  270.309998  271.829987  276.010010  58076900.0   \n",
              "2022-09-27  288.670013  277.510010  283.839996  282.940002  61925200.0   \n",
              "2022-09-28  289.000000  277.570007  283.079987  287.809998  54664800.0   \n",
              "2022-09-29  283.649994  265.779999  282.760010  268.209991  77620600.0   \n",
              "2022-09-30  275.570007  262.470001  266.149994  265.250000  67517800.0   \n",
              "\n",
              "             Adj Close  \n",
              "Date                    \n",
              "2012-01-03    1.872000  \n",
              "2012-01-04    1.847333  \n",
              "2012-01-05    1.808000  \n",
              "2012-01-06    1.794000  \n",
              "2012-01-09    1.816667  \n",
              "...                ...  \n",
              "2022-09-26  276.010010  \n",
              "2022-09-27  282.940002  \n",
              "2022-09-28  287.809998  \n",
              "2022-09-29  268.209991  \n",
              "2022-09-30  265.250000  \n",
              "\n",
              "[2705 rows x 6 columns]"
            ],
            "text/html": [
              "\n",
              "  <div id=\"df-a80cda2d-50ee-4d41-8e08-a1d4cdc57bd4\">\n",
              "    <div class=\"colab-df-container\">\n",
              "      <div>\n",
              "<style scoped>\n",
              "    .dataframe tbody tr th:only-of-type {\n",
              "        vertical-align: middle;\n",
              "    }\n",
              "\n",
              "    .dataframe tbody tr th {\n",
              "        vertical-align: top;\n",
              "    }\n",
              "\n",
              "    .dataframe thead th {\n",
              "        text-align: right;\n",
              "    }\n",
              "</style>\n",
              "<table border=\"1\" class=\"dataframe\">\n",
              "  <thead>\n",
              "    <tr style=\"text-align: right;\">\n",
              "      <th></th>\n",
              "      <th>High</th>\n",
              "      <th>Low</th>\n",
              "      <th>Open</th>\n",
              "      <th>Close</th>\n",
              "      <th>Volume</th>\n",
              "      <th>Adj Close</th>\n",
              "    </tr>\n",
              "    <tr>\n",
              "      <th>Date</th>\n",
              "      <th></th>\n",
              "      <th></th>\n",
              "      <th></th>\n",
              "      <th></th>\n",
              "      <th></th>\n",
              "      <th></th>\n",
              "    </tr>\n",
              "  </thead>\n",
              "  <tbody>\n",
              "    <tr>\n",
              "      <th>2012-01-03</th>\n",
              "      <td>1.966667</td>\n",
              "      <td>1.843333</td>\n",
              "      <td>1.929333</td>\n",
              "      <td>1.872000</td>\n",
              "      <td>13921500.0</td>\n",
              "      <td>1.872000</td>\n",
              "    </tr>\n",
              "    <tr>\n",
              "      <th>2012-01-04</th>\n",
              "      <td>1.911333</td>\n",
              "      <td>1.833333</td>\n",
              "      <td>1.880667</td>\n",
              "      <td>1.847333</td>\n",
              "      <td>9451500.0</td>\n",
              "      <td>1.847333</td>\n",
              "    </tr>\n",
              "    <tr>\n",
              "      <th>2012-01-05</th>\n",
              "      <td>1.862000</td>\n",
              "      <td>1.790000</td>\n",
              "      <td>1.850667</td>\n",
              "      <td>1.808000</td>\n",
              "      <td>15082500.0</td>\n",
              "      <td>1.808000</td>\n",
              "    </tr>\n",
              "    <tr>\n",
              "      <th>2012-01-06</th>\n",
              "      <td>1.852667</td>\n",
              "      <td>1.760667</td>\n",
              "      <td>1.813333</td>\n",
              "      <td>1.794000</td>\n",
              "      <td>14794500.0</td>\n",
              "      <td>1.794000</td>\n",
              "    </tr>\n",
              "    <tr>\n",
              "      <th>2012-01-09</th>\n",
              "      <td>1.832667</td>\n",
              "      <td>1.741333</td>\n",
              "      <td>1.800000</td>\n",
              "      <td>1.816667</td>\n",
              "      <td>13455000.0</td>\n",
              "      <td>1.816667</td>\n",
              "    </tr>\n",
              "    <tr>\n",
              "      <th>...</th>\n",
              "      <td>...</td>\n",
              "      <td>...</td>\n",
              "      <td>...</td>\n",
              "      <td>...</td>\n",
              "      <td>...</td>\n",
              "      <td>...</td>\n",
              "    </tr>\n",
              "    <tr>\n",
              "      <th>2022-09-26</th>\n",
              "      <td>284.089996</td>\n",
              "      <td>270.309998</td>\n",
              "      <td>271.829987</td>\n",
              "      <td>276.010010</td>\n",
              "      <td>58076900.0</td>\n",
              "      <td>276.010010</td>\n",
              "    </tr>\n",
              "    <tr>\n",
              "      <th>2022-09-27</th>\n",
              "      <td>288.670013</td>\n",
              "      <td>277.510010</td>\n",
              "      <td>283.839996</td>\n",
              "      <td>282.940002</td>\n",
              "      <td>61925200.0</td>\n",
              "      <td>282.940002</td>\n",
              "    </tr>\n",
              "    <tr>\n",
              "      <th>2022-09-28</th>\n",
              "      <td>289.000000</td>\n",
              "      <td>277.570007</td>\n",
              "      <td>283.079987</td>\n",
              "      <td>287.809998</td>\n",
              "      <td>54664800.0</td>\n",
              "      <td>287.809998</td>\n",
              "    </tr>\n",
              "    <tr>\n",
              "      <th>2022-09-29</th>\n",
              "      <td>283.649994</td>\n",
              "      <td>265.779999</td>\n",
              "      <td>282.760010</td>\n",
              "      <td>268.209991</td>\n",
              "      <td>77620600.0</td>\n",
              "      <td>268.209991</td>\n",
              "    </tr>\n",
              "    <tr>\n",
              "      <th>2022-09-30</th>\n",
              "      <td>275.570007</td>\n",
              "      <td>262.470001</td>\n",
              "      <td>266.149994</td>\n",
              "      <td>265.250000</td>\n",
              "      <td>67517800.0</td>\n",
              "      <td>265.250000</td>\n",
              "    </tr>\n",
              "  </tbody>\n",
              "</table>\n",
              "<p>2705 rows × 6 columns</p>\n",
              "</div>\n",
              "      <button class=\"colab-df-convert\" onclick=\"convertToInteractive('df-a80cda2d-50ee-4d41-8e08-a1d4cdc57bd4')\"\n",
              "              title=\"Convert this dataframe to an interactive table.\"\n",
              "              style=\"display:none;\">\n",
              "        \n",
              "  <svg xmlns=\"http://www.w3.org/2000/svg\" height=\"24px\"viewBox=\"0 0 24 24\"\n",
              "       width=\"24px\">\n",
              "    <path d=\"M0 0h24v24H0V0z\" fill=\"none\"/>\n",
              "    <path d=\"M18.56 5.44l.94 2.06.94-2.06 2.06-.94-2.06-.94-.94-2.06-.94 2.06-2.06.94zm-11 1L8.5 8.5l.94-2.06 2.06-.94-2.06-.94L8.5 2.5l-.94 2.06-2.06.94zm10 10l.94 2.06.94-2.06 2.06-.94-2.06-.94-.94-2.06-.94 2.06-2.06.94z\"/><path d=\"M17.41 7.96l-1.37-1.37c-.4-.4-.92-.59-1.43-.59-.52 0-1.04.2-1.43.59L10.3 9.45l-7.72 7.72c-.78.78-.78 2.05 0 2.83L4 21.41c.39.39.9.59 1.41.59.51 0 1.02-.2 1.41-.59l7.78-7.78 2.81-2.81c.8-.78.8-2.07 0-2.86zM5.41 20L4 18.59l7.72-7.72 1.47 1.35L5.41 20z\"/>\n",
              "  </svg>\n",
              "      </button>\n",
              "      \n",
              "  <style>\n",
              "    .colab-df-container {\n",
              "      display:flex;\n",
              "      flex-wrap:wrap;\n",
              "      gap: 12px;\n",
              "    }\n",
              "\n",
              "    .colab-df-convert {\n",
              "      background-color: #E8F0FE;\n",
              "      border: none;\n",
              "      border-radius: 50%;\n",
              "      cursor: pointer;\n",
              "      display: none;\n",
              "      fill: #1967D2;\n",
              "      height: 32px;\n",
              "      padding: 0 0 0 0;\n",
              "      width: 32px;\n",
              "    }\n",
              "\n",
              "    .colab-df-convert:hover {\n",
              "      background-color: #E2EBFA;\n",
              "      box-shadow: 0px 1px 2px rgba(60, 64, 67, 0.3), 0px 1px 3px 1px rgba(60, 64, 67, 0.15);\n",
              "      fill: #174EA6;\n",
              "    }\n",
              "\n",
              "    [theme=dark] .colab-df-convert {\n",
              "      background-color: #3B4455;\n",
              "      fill: #D2E3FC;\n",
              "    }\n",
              "\n",
              "    [theme=dark] .colab-df-convert:hover {\n",
              "      background-color: #434B5C;\n",
              "      box-shadow: 0px 1px 3px 1px rgba(0, 0, 0, 0.15);\n",
              "      filter: drop-shadow(0px 1px 2px rgba(0, 0, 0, 0.3));\n",
              "      fill: #FFFFFF;\n",
              "    }\n",
              "  </style>\n",
              "\n",
              "      <script>\n",
              "        const buttonEl =\n",
              "          document.querySelector('#df-a80cda2d-50ee-4d41-8e08-a1d4cdc57bd4 button.colab-df-convert');\n",
              "        buttonEl.style.display =\n",
              "          google.colab.kernel.accessAllowed ? 'block' : 'none';\n",
              "\n",
              "        async function convertToInteractive(key) {\n",
              "          const element = document.querySelector('#df-a80cda2d-50ee-4d41-8e08-a1d4cdc57bd4');\n",
              "          const dataTable =\n",
              "            await google.colab.kernel.invokeFunction('convertToInteractive',\n",
              "                                                     [key], {});\n",
              "          if (!dataTable) return;\n",
              "\n",
              "          const docLinkHtml = 'Like what you see? Visit the ' +\n",
              "            '<a target=\"_blank\" href=https://colab.research.google.com/notebooks/data_table.ipynb>data table notebook</a>'\n",
              "            + ' to learn more about interactive tables.';\n",
              "          element.innerHTML = '';\n",
              "          dataTable['output_type'] = 'display_data';\n",
              "          await google.colab.output.renderOutput(dataTable, element);\n",
              "          const docLink = document.createElement('div');\n",
              "          docLink.innerHTML = docLinkHtml;\n",
              "          element.appendChild(docLink);\n",
              "        }\n",
              "      </script>\n",
              "    </div>\n",
              "  </div>\n",
              "  "
            ]
          },
          "metadata": {},
          "execution_count": 177
        }
      ]
    },
    {
      "cell_type": "code",
      "source": [
        "df.shape"
      ],
      "metadata": {
        "colab": {
          "base_uri": "https://localhost:8080/"
        },
        "id": "kJiYRMHwVXLm",
        "outputId": "408c6d7c-427d-4f95-b096-914715d80f95"
      },
      "execution_count": 178,
      "outputs": [
        {
          "output_type": "execute_result",
          "data": {
            "text/plain": [
              "(2705, 6)"
            ]
          },
          "metadata": {},
          "execution_count": 178
        }
      ]
    },
    {
      "cell_type": "code",
      "source": [
        "#Visualizing the closing price history\n",
        "\n",
        "plt.figure(figsize=(16,8))\n",
        "plt.title('Close Price History')\n",
        "plt.plot(df['Close'])\n",
        "plt.xlabel('Date', fontsize=18)\n",
        "plt.ylabel('Close Price USD ($)', fontsize=18)\n",
        "plt.show()"
      ],
      "metadata": {
        "colab": {
          "base_uri": "https://localhost:8080/",
          "height": 558
        },
        "id": "KrMV31ItVgqX",
        "outputId": "b09ed52a-3036-41e4-97eb-9770a1d7a7f1"
      },
      "execution_count": 179,
      "outputs": [
        {
          "output_type": "display_data",
          "data": {
            "text/plain": [
              "<Figure size 1152x576 with 1 Axes>"
            ],
            "image/png": "[encoded data removed]"
          },
          "metadata": {}
        }
      ]
    },
    {
      "cell_type": "code",
      "source": [
        "# New DataFrame with only Close column\n",
        "data = df.filter(['Close'])\n",
        "#Convert the datafram to a numpy array\n",
        "dataset = data.values\n",
        "#Get no of rows to train model on\n",
        "training_data_len = math.ceil(len(dataset) * .8)\n",
        "\n",
        "training_data_len"
      ],
      "metadata": {
        "colab": {
          "base_uri": "https://localhost:8080/"
        },
        "id": "U1uFt6FsYmTz",
        "outputId": "3ae3a9a7-02c1-43bd-9741-dec11ed06243"
      },
      "execution_count": 180,
      "outputs": [
        {
          "output_type": "execute_result",
          "data": {
            "text/plain": [
              "2164"
            ]
          },
          "metadata": {},
          "execution_count": 180
        }
      ]
    },
    {
      "cell_type": "code",
      "source": [
        "#scale the data\n",
        "scaler = MinMaxScaler(feature_range=(0,1))\n",
        "scaled_data = scaler.fit_transform(dataset)\n",
        "\n",
        "\n",
        "scaled_data"
      ],
      "metadata": {
        "colab": {
          "base_uri": "https://localhost:8080/"
        },
        "id": "FN8RtQbVaHV6",
        "outputId": "e4d62372-f984-45d1-b1bd-93606b39ffb5"
      },
      "execution_count": 181,
      "outputs": [
        {
          "output_type": "execute_result",
          "data": {
            "text/plain": [
              "array([[0.00086343],\n",
              "       [0.00080303],\n",
              "       [0.00070674],\n",
              "       ...,\n",
              "       [0.70091859],\n",
              "       [0.65293236],\n",
              "       [0.64568548]])"
            ]
          },
          "metadata": {},
          "execution_count": 181
        }
      ]
    },
    {
      "cell_type": "code",
      "source": [
        "#Create training dataset\n",
        "#Create the scaled training dataset\n",
        "train_data = scaled_data[0:training_data_len , :]\n",
        "#split the data to x_train and y_train data sets\n",
        "x_train = []\n",
        "y_train = []\n",
        "\n",
        "for i in range(60, len(train_data)):\n",
        "  x_train.append(train_data[i-60:i, 0])\n",
        "  y_train.append(train_data[i, 0])\n",
        "  if(i<=61):\n",
        "    print(x_train)\n",
        "    print(y_train)\n",
        "    print()\n"
      ],
      "metadata": {
        "colab": {
          "base_uri": "https://localhost:8080/"
        },
        "id": "EZL4SF5ve0-j",
        "outputId": "d712e544-8064-4578-adf2-5548b865b1ae"
      },
      "execution_count": 182,
      "outputs": [
        {
          "output_type": "stream",
          "name": "stdout",
          "text": [
            "[array([0.00086343, 0.00080303, 0.00070674, 0.00067246, 0.00072796,\n",
            "       0.00078834, 0.00088791, 0.00089117, 0.        , 0.00062186,\n",
            "       0.00065614, 0.00064798, 0.00062186, 0.00064961, 0.0007557 ,\n",
            "       0.00084547, 0.00100379, 0.00106745, 0.00110662, 0.00102501,\n",
            "       0.00110825, 0.00121761, 0.00136451, 0.0014706 , 0.00143796,\n",
            "       0.00149182, 0.00159791, 0.00135634, 0.00142   , 0.00169421,\n",
            "       0.00176439, 0.00185906, 0.001988  , 0.00191129, 0.00186559,\n",
            "       0.00191618, 0.00178887, 0.00176766, 0.00179867, 0.00173338,\n",
            "       0.0018966 , 0.00183621, 0.00179214, 0.00168441, 0.00168605,\n",
            "       0.00167789, 0.00195046, 0.00215775, 0.00217081, 0.00204023,\n",
            "       0.0019929 , 0.00204513, 0.00198963, 0.00198637, 0.00201738,\n",
            "       0.00189497, 0.00184274, 0.00238462, 0.00247276, 0.00245807])]\n",
            "[0.0023731972591546557]\n",
            "\n",
            "[array([0.00086343, 0.00080303, 0.00070674, 0.00067246, 0.00072796,\n",
            "       0.00078834, 0.00088791, 0.00089117, 0.        , 0.00062186,\n",
            "       0.00065614, 0.00064798, 0.00062186, 0.00064961, 0.0007557 ,\n",
            "       0.00084547, 0.00100379, 0.00106745, 0.00110662, 0.00102501,\n",
            "       0.00110825, 0.00121761, 0.00136451, 0.0014706 , 0.00143796,\n",
            "       0.00149182, 0.00159791, 0.00135634, 0.00142   , 0.00169421,\n",
            "       0.00176439, 0.00185906, 0.001988  , 0.00191129, 0.00186559,\n",
            "       0.00191618, 0.00178887, 0.00176766, 0.00179867, 0.00173338,\n",
            "       0.0018966 , 0.00183621, 0.00179214, 0.00168441, 0.00168605,\n",
            "       0.00167789, 0.00195046, 0.00215775, 0.00217081, 0.00204023,\n",
            "       0.0019929 , 0.00204513, 0.00198963, 0.00198637, 0.00201738,\n",
            "       0.00189497, 0.00184274, 0.00238462, 0.00247276, 0.00245807]), array([0.00080303, 0.00070674, 0.00067246, 0.00072796, 0.00078834,\n",
            "       0.00088791, 0.00089117, 0.        , 0.00062186, 0.00065614,\n",
            "       0.00064798, 0.00062186, 0.00064961, 0.0007557 , 0.00084547,\n",
            "       0.00100379, 0.00106745, 0.00110662, 0.00102501, 0.00110825,\n",
            "       0.00121761, 0.00136451, 0.0014706 , 0.00143796, 0.00149182,\n",
            "       0.00159791, 0.00135634, 0.00142   , 0.00169421, 0.00176439,\n",
            "       0.00185906, 0.001988  , 0.00191129, 0.00186559, 0.00191618,\n",
            "       0.00178887, 0.00176766, 0.00179867, 0.00173338, 0.0018966 ,\n",
            "       0.00183621, 0.00179214, 0.00168441, 0.00168605, 0.00167789,\n",
            "       0.00195046, 0.00215775, 0.00217081, 0.00204023, 0.0019929 ,\n",
            "       0.00204513, 0.00198963, 0.00198637, 0.00201738, 0.00189497,\n",
            "       0.00184274, 0.00238462, 0.00247276, 0.00245807, 0.0023732 ])]\n",
            "[0.0023731972591546557, 0.0023585074999534278]\n",
            "\n"
          ]
        }
      ]
    },
    {
      "cell_type": "code",
      "source": [
        "#Convert x_train and y_train to numpy arrays\n",
        "x_train, y_train = np.array(x_train), np.array(y_train)"
      ],
      "metadata": {
        "id": "tr1r1qCaqWdS"
      },
      "execution_count": 183,
      "outputs": []
    },
    {
      "cell_type": "code",
      "source": [
        "#Reshape the data\n",
        "x_train = np.reshape(x_train,(x_train.shape[0], x_train.shape[1], 1))\n",
        "x_train.shape"
      ],
      "metadata": {
        "colab": {
          "base_uri": "https://localhost:8080/"
        },
        "id": "vxsQBvIlq4Xu",
        "outputId": "af325c97-09d9-4ba5-8ff0-be9e23fc2a85"
      },
      "execution_count": 184,
      "outputs": [
        {
          "output_type": "execute_result",
          "data": {
            "text/plain": [
              "(2104, 60, 1)"
            ]
          },
          "metadata": {},
          "execution_count": 184
        }
      ]
    },
    {
      "cell_type": "code",
      "source": [
        "#Build the Lstm Model\n",
        "\n",
        "model = Sequential()\n",
        "model.add(LSTM (50, return_sequences=True,input_shape=(x_train.shape[1], 1)))\n",
        "model.add(LSTM(50, return_sequences= False))\n",
        "model.add(Dense(25))\n",
        "model.add(Dense(1))\n"
      ],
      "metadata": {
        "id": "nf46YlK3r8qm"
      },
      "execution_count": 185,
      "outputs": []
    },
    {
      "cell_type": "code",
      "source": [
        "#Compile the model\n",
        "model.compile(optimizer='adam', loss='mean_squared_error')"
      ],
      "metadata": {
        "id": "wk1md3isyR8i"
      },
      "execution_count": 186,
      "outputs": []
    },
    {
      "cell_type": "code",
      "source": [
        "#Train the model\n",
        "model.fit(x_train, y_train, batch_size=1, epochs=1)"
      ],
      "metadata": {
        "colab": {
          "base_uri": "https://localhost:8080/"
        },
        "id": "zdwOaPHVytqB",
        "outputId": "18241c0b-8e3e-4557-a020-f1167e7cd1db"
      },
      "execution_count": 187,
      "outputs": [
        {
          "output_type": "stream",
          "name": "stdout",
          "text": [
            "2104/2104 [==============================] - 63s 28ms/step - loss: 1.1186e-04\n"
          ]
        },
        {
          "output_type": "execute_result",
          "data": {
            "text/plain": [
              "<keras.callbacks.History at 0x7f1fe1da9910>"
            ]
          },
          "metadata": {},
          "execution_count": 187
        }
      ]
    },
    {
      "cell_type": "code",
      "source": [
        "#Create testing dataset\n",
        "#Create new array containing scaled values from index 2104 to 2705\n",
        "test_data = scaled_data[training_data_len - 60: , :]\n",
        "#Create the data sets x_test and y_test\n",
        "x_test = []\n",
        "y_test = dataset[training_data_len: , :]\n",
        "for i in range(60, len(test_data)):\n",
        "  x_test.append(test_data[i-60: i, 0])"
      ],
      "metadata": {
        "id": "RoXrU0b2zve0"
      },
      "execution_count": 188,
      "outputs": []
    },
    {
      "cell_type": "code",
      "source": [
        "#Convert data to a numpy array\n",
        "x_test = np.array(x_test)"
      ],
      "metadata": {
        "id": "Lje_Mm_72Ec7"
      },
      "execution_count": 189,
      "outputs": []
    },
    {
      "cell_type": "code",
      "source": [
        "#Reshape the data\n",
        "x_test = np.reshape(x_test,(x_test.shape[0],x_test.shape[1], 1))"
      ],
      "metadata": {
        "id": "-HyeE80z2u0W"
      },
      "execution_count": 190,
      "outputs": []
    },
    {
      "cell_type": "code",
      "source": [
        "#Get models predicted value\n",
        "predictions = model.predict(x_test)\n",
        "predictions = scaler.inverse_transform(predictions)\n"
      ],
      "metadata": {
        "colab": {
          "base_uri": "https://localhost:8080/"
        },
        "id": "Vf85ydGd3nv4",
        "outputId": "df75574e-0104-4c61-a924-d7617e011b3b"
      },
      "execution_count": 191,
      "outputs": [
        {
          "output_type": "stream",
          "name": "stdout",
          "text": [
            "17/17 [==============================] - 1s 17ms/step\n"
          ]
        }
      ]
    },
    {
      "cell_type": "code",
      "source": [
        "#Get the root mean squared error\n",
        "rmse = np.sqrt(np.mean(predictions - y_test)**2)\n",
        "\n",
        "rmse"
      ],
      "metadata": {
        "colab": {
          "base_uri": "https://localhost:8080/"
        },
        "id": "vWlVro6t5MgS",
        "outputId": "6a410e9c-3d63-49dd-b38e-a35c943c9091"
      },
      "execution_count": 192,
      "outputs": [
        {
          "output_type": "execute_result",
          "data": {
            "text/plain": [
              "20.00222078841627"
            ]
          },
          "metadata": {},
          "execution_count": 192
        }
      ]
    },
    {
      "cell_type": "code",
      "source": [
        "#Plot the data\n",
        "train = data[:training_data_len]\n",
        "valid = data[training_data_len:]\n",
        "valid['Predictions'] = predictions\n",
        "#Visualize the model\n",
        "plt.figure(figsize=(16,8))\n",
        "plt.title('Model')\n",
        "plt.xlabel('date', fontsize = 18)\n",
        "plt.ylabel('close', fontsize = 18)\n",
        "plt.plot(train['Close'])\n",
        "plt.plot(valid[['Close', 'Predictions']])\n",
        "plt.legend(['Train', 'Val', 'Predictions'], loc='lower right')\n",
        "plt.show()"
      ],
      "metadata": {
        "colab": {
          "base_uri": "https://localhost:8080/",
          "height": 662
        },
        "id": "EP3EbaPF6VR5",
        "outputId": "02facb2a-19cc-4494-8472-7ec4581d4c43"
      },
      "execution_count": 193,
      "outputs": [
        {
          "output_type": "stream",
          "name": "stderr",
          "text": [
            "/usr/local/lib/python3.7/dist-packages/ipykernel_launcher.py:4: SettingWithCopyWarning: \n",
            "A value is trying to be set on a copy of a slice from a DataFrame.\n",
            "Try using .loc[row_indexer,col_indexer] = value instead\n",
            "\n",
            "See the caveats in the documentation: https://pandas.pydata.org/pandas-docs/stable/user_guide/indexing.html#returning-a-view-versus-a-copy\n",
            "  after removing the cwd from sys.path.\n"
          ]
        },
        {
          "output_type": "display_data",
          "data": {
            "text/plain": [
              "<Figure size 1152x576 with 1 Axes>"
            ],
            "image/png": "[encoded data removed]"
          },
          "metadata": {}
        }
      ]
    },
    {
      "cell_type": "code",
      "source": [
        "#show the valid and predicted prices\n",
        "valid"
      ],
      "metadata": {
        "colab": {
          "base_uri": "https://localhost:8080/",
          "height": 455
        },
        "id": "ElVcGH5S-Oqz",
        "outputId": "dbb2996e-10fe-47d2-d1bf-bca8806fc3fc"
      },
      "execution_count": 194,
      "outputs": [
        {
          "output_type": "execute_result",
          "data": {
            "text/plain": [
              "                 Close  Predictions\n",
              "Date                               \n",
              "2020-08-10   94.571335   102.188248\n",
              "2020-08-11   91.625999   101.563354\n",
              "2020-08-12  103.650665   100.454643\n",
              "2020-08-13  108.066666   100.806076\n",
              "2020-08-14  110.047333   102.351593\n",
              "...                ...          ...\n",
              "2022-09-26  276.010010   325.136169\n",
              "2022-09-27  282.940002   320.468933\n",
              "2022-09-28  287.809998   317.058807\n",
              "2022-09-29  268.209991   315.276001\n",
              "2022-09-30  265.250000   311.783112\n",
              "\n",
              "[541 rows x 2 columns]"
            ],
            "text/html": [
              "\n",
              "  <div id=\"df-d6647eac-b511-42d8-b655-21dec984424c\">\n",
              "    <div class=\"colab-df-container\">\n",
              "      <div>\n",
              "<style scoped>\n",
              "    .dataframe tbody tr th:only-of-type {\n",
              "        vertical-align: middle;\n",
              "    }\n",
              "\n",
              "    .dataframe tbody tr th {\n",
              "        vertical-align: top;\n",
              "    }\n",
              "\n",
              "    .dataframe thead th {\n",
              "        text-align: right;\n",
              "    }\n",
              "</style>\n",
              "<table border=\"1\" class=\"dataframe\">\n",
              "  <thead>\n",
              "    <tr style=\"text-align: right;\">\n",
              "      <th></th>\n",
              "      <th>Close</th>\n",
              "      <th>Predictions</th>\n",
              "    </tr>\n",
              "    <tr>\n",
              "      <th>Date</th>\n",
              "      <th></th>\n",
              "      <th></th>\n",
              "    </tr>\n",
              "  </thead>\n",
              "  <tbody>\n",
              "    <tr>\n",
              "      <th>2020-08-10</th>\n",
              "      <td>94.571335</td>\n",
              "      <td>102.188248</td>\n",
              "    </tr>\n",
              "    <tr>\n",
              "      <th>2020-08-11</th>\n",
              "      <td>91.625999</td>\n",
              "      <td>101.563354</td>\n",
              "    </tr>\n",
              "    <tr>\n",
              "      <th>2020-08-12</th>\n",
              "      <td>103.650665</td>\n",
              "      <td>100.454643</td>\n",
              "    </tr>\n",
              "    <tr>\n",
              "      <th>2020-08-13</th>\n",
              "      <td>108.066666</td>\n",
              "      <td>100.806076</td>\n",
              "    </tr>\n",
              "    <tr>\n",
              "      <th>2020-08-14</th>\n",
              "      <td>110.047333</td>\n",
              "      <td>102.351593</td>\n",
              "    </tr>\n",
              "    <tr>\n",
              "      <th>...</th>\n",
              "      <td>...</td>\n",
              "      <td>...</td>\n",
              "    </tr>\n",
              "    <tr>\n",
              "      <th>2022-09-26</th>\n",
              "      <td>276.010010</td>\n",
              "      <td>325.136169</td>\n",
              "    </tr>\n",
              "    <tr>\n",
              "      <th>2022-09-27</th>\n",
              "      <td>282.940002</td>\n",
              "      <td>320.468933</td>\n",
              "    </tr>\n",
              "    <tr>\n",
              "      <th>2022-09-28</th>\n",
              "      <td>287.809998</td>\n",
              "      <td>317.058807</td>\n",
              "    </tr>\n",
              "    <tr>\n",
              "      <th>2022-09-29</th>\n",
              "      <td>268.209991</td>\n",
              "      <td>315.276001</td>\n",
              "    </tr>\n",
              "    <tr>\n",
              "      <th>2022-09-30</th>\n",
              "      <td>265.250000</td>\n",
              "      <td>311.783112</td>\n",
              "    </tr>\n",
              "  </tbody>\n",
              "</table>\n",
              "<p>541 rows × 2 columns</p>\n",
              "</div>\n",
              "      <button class=\"colab-df-convert\" onclick=\"convertToInteractive('df-d6647eac-b511-42d8-b655-21dec984424c')\"\n",
              "              title=\"Convert this dataframe to an interactive table.\"\n",
              "              style=\"display:none;\">\n",
              "        \n",
              "  <svg xmlns=\"http://www.w3.org/2000/svg\" height=\"24px\"viewBox=\"0 0 24 24\"\n",
              "       width=\"24px\">\n",
              "    <path d=\"M0 0h24v24H0V0z\" fill=\"none\"/>\n",
              "    <path d=\"M18.56 5.44l.94 2.06.94-2.06 2.06-.94-2.06-.94-.94-2.06-.94 2.06-2.06.94zm-11 1L8.5 8.5l.94-2.06 2.06-.94-2.06-.94L8.5 2.5l-.94 2.06-2.06.94zm10 10l.94 2.06.94-2.06 2.06-.94-2.06-.94-.94-2.06-.94 2.06-2.06.94z\"/><path d=\"M17.41 7.96l-1.37-1.37c-.4-.4-.92-.59-1.43-.59-.52 0-1.04.2-1.43.59L10.3 9.45l-7.72 7.72c-.78.78-.78 2.05 0 2.83L4 21.41c.39.39.9.59 1.41.59.51 0 1.02-.2 1.41-.59l7.78-7.78 2.81-2.81c.8-.78.8-2.07 0-2.86zM5.41 20L4 18.59l7.72-7.72 1.47 1.35L5.41 20z\"/>\n",
              "  </svg>\n",
              "      </button>\n",
              "      \n",
              "  <style>\n",
              "    .colab-df-container {\n",
              "      display:flex;\n",
              "      flex-wrap:wrap;\n",
              "      gap: 12px;\n",
              "    }\n",
              "\n",
              "    .colab-df-convert {\n",
              "      background-color: #E8F0FE;\n",
              "      border: none;\n",
              "      border-radius: 50%;\n",
              "      cursor: pointer;\n",
              "      display: none;\n",
              "      fill: #1967D2;\n",
              "      height: 32px;\n",
              "      padding: 0 0 0 0;\n",
              "      width: 32px;\n",
              "    }\n",
              "\n",
              "    .colab-df-convert:hover {\n",
              "      background-color: #E2EBFA;\n",
              "      box-shadow: 0px 1px 2px rgba(60, 64, 67, 0.3), 0px 1px 3px 1px rgba(60, 64, 67, 0.15);\n",
              "      fill: #174EA6;\n",
              "    }\n",
              "\n",
              "    [theme=dark] .colab-df-convert {\n",
              "      background-color: #3B4455;\n",
              "      fill: #D2E3FC;\n",
              "    }\n",
              "\n",
              "    [theme=dark] .colab-df-convert:hover {\n",
              "      background-color: #434B5C;\n",
              "      box-shadow: 0px 1px 3px 1px rgba(0, 0, 0, 0.15);\n",
              "      filter: drop-shadow(0px 1px 2px rgba(0, 0, 0, 0.3));\n",
              "      fill: #FFFFFF;\n",
              "    }\n",
              "  </style>\n",
              "\n",
              "      <script>\n",
              "        const buttonEl =\n",
              "          document.querySelector('#df-d6647eac-b511-42d8-b655-21dec984424c button.colab-df-convert');\n",
              "        buttonEl.style.display =\n",
              "          google.colab.kernel.accessAllowed ? 'block' : 'none';\n",
              "\n",
              "        async function convertToInteractive(key) {\n",
              "          const element = document.querySelector('#df-d6647eac-b511-42d8-b655-21dec984424c');\n",
              "          const dataTable =\n",
              "            await google.colab.kernel.invokeFunction('convertToInteractive',\n",
              "                                                     [key], {});\n",
              "          if (!dataTable) return;\n",
              "\n",
              "          const docLinkHtml = 'Like what you see? Visit the ' +\n",
              "            '<a target=\"_blank\" href=https://colab.research.google.com/notebooks/data_table.ipynb>data table notebook</a>'\n",
              "            + ' to learn more about interactive tables.';\n",
              "          element.innerHTML = '';\n",
              "          dataTable['output_type'] = 'display_data';\n",
              "          await google.colab.output.renderOutput(dataTable, element);\n",
              "          const docLink = document.createElement('div');\n",
              "          docLink.innerHTML = docLinkHtml;\n",
              "          element.appendChild(docLink);\n",
              "        }\n",
              "      </script>\n",
              "    </div>\n",
              "  </div>\n",
              "  "
            ]
          },
          "metadata": {},
          "execution_count": 194
        }
      ]
    },
    {
      "cell_type": "code",
      "source": [
        "#Get the quote\n",
        "apple_quote = web.DataReader('TSLA', data_source = 'yahoo', start = '2012-01-01', end = '2022-08-15')\n",
        "#Create a new data frame\n",
        "new_df = apple_quote.filter(['Close'])\n",
        "#Get the last 60 day closing price values and convert the dataframe to an array\n",
        "last_60_days = new_df[-60:].values\n",
        "#scale the data to be values between 0 and 1\n",
        "last_60_days_scaled = scaler.transform(last_60_days)\n",
        "#Create an empty list\n",
        "X_test = []\n",
        "#Append the past 60 days\n",
        "X_test.append(last_60_days_scaled)\n",
        "#Convert X_test to a numpy array\n",
        "X_test = np.array(X_test)\n",
        "#Reshape the data\n",
        "X_test = np.reshape(X_test, (X_test.shape[0], X_test.shape[1], 1))\n",
        "#Get the predicted scaled price\n",
        "pred_price = model.predict(X_test)\n",
        "#Undo the scaling\n",
        "pred_price = scaler.inverse_transform(pred_price)\n",
        "print(pred_price)\n"
      ],
      "metadata": {
        "colab": {
          "base_uri": "https://localhost:8080/"
        },
        "id": "DW-SdCVq_AFX",
        "outputId": "d8f5b3d9-de54-4968-fb35-82ae6d5e21a3"
      },
      "execution_count": 214,
      "outputs": [
        {
          "output_type": "stream",
          "name": "stdout",
          "text": [
            "1/1 [==============================] - 0s 68ms/step\n",
            "[[321.53305]]\n"
          ]
        }
      ]
    },
    {
      "cell_type": "code",
      "source": [
        "apple_quote2 = web.DataReader('TSLA', data_source = 'yahoo', start = '2022-08-15', end = '2022-08-15')\n",
        "print(apple_quote2)"
      ],
      "metadata": {
        "colab": {
          "base_uri": "https://localhost:8080/"
        },
        "id": "Mpl-nJgeDWeF",
        "outputId": "3e1f7620-13d2-44dd-8e76-1f06aeb5c9e7"
      },
      "execution_count": 215,
      "outputs": [
        {
          "output_type": "stream",
          "name": "stdout",
          "text": [
            "                  High         Low        Open       Close    Volume  \\\n",
            "Date                                                                   \n",
            "2022-08-15  313.133331  301.230011  301.786682  309.320007  89359200   \n",
            "\n",
            "             Adj Close  \n",
            "Date                    \n",
            "2022-08-15  309.320007  \n"
          ]
        }
      ]
    }
  ],
  "metadata": {
    "colab": {
      "provenance": [],
      "authorship_tag": "ABX9TyN/+4M52+nX+UHDy5wnS/DQ",
      "include_colab_link": true
    },
    "kernelspec": {
      "display_name": "Python 3",
      "name": "python3"
    },
    "language_info": {
      "name": "python"
    }
  },
  "nbformat": 4,
  "nbformat_minor": 0
}
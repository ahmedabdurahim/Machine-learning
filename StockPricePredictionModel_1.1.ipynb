{
  "cells": [
    {
      "cell_type": "markdown",
      "metadata": {
        "id": "view-in-github",
        "colab_type": "text"
      },
      "source": [
        "<a href=\"https://colab.research.google.com/github/ahmedabdurahim/Machine-learning/blob/main/StockPricePredictionModel_1.1.ipynb\" target=\"_parent\"><img src=\"https://colab.research.google.com/assets/colab-badge.svg\" alt=\"Open In Colab\"/></a>"
      ]
    },
    {
      "cell_type": "code",
      "execution_count": 42,
      "metadata": {
        "colab": {
          "base_uri": "https://localhost:8080/"
        },
        "id": "GHzY7TazVBtu",
        "outputId": "8794c32b-5e8f-4486-9d14-4459f3283f89"
      },
      "outputs": [
        {
          "output_type": "stream",
          "name": "stdout",
          "text": [
            "Looking in indexes: https://pypi.org/simple, https://us-python.pkg.dev/colab-wheels/public/simple/\n",
            "Requirement already satisfied: pandas-datareader in /usr/local/lib/python3.9/dist-packages (0.10.0)\n",
            "Requirement already satisfied: requests>=2.19.0 in /usr/local/lib/python3.9/dist-packages (from pandas-datareader) (2.28.2)\n",
            "Requirement already satisfied: pandas>=0.23 in /usr/local/lib/python3.9/dist-packages (from pandas-datareader) (1.4.4)\n",
            "Requirement already satisfied: lxml in /usr/local/lib/python3.9/dist-packages (from pandas-datareader) (4.9.2)\n",
            "Requirement already satisfied: numpy>=1.18.5 in /usr/local/lib/python3.9/dist-packages (from pandas>=0.23->pandas-datareader) (1.22.4)\n",
            "Requirement already satisfied: python-dateutil>=2.8.1 in /usr/local/lib/python3.9/dist-packages (from pandas>=0.23->pandas-datareader) (2.8.2)\n",
            "Requirement already satisfied: pytz>=2020.1 in /usr/local/lib/python3.9/dist-packages (from pandas>=0.23->pandas-datareader) (2022.7.1)\n",
            "Requirement already satisfied: certifi>=2017.4.17 in /usr/local/lib/python3.9/dist-packages (from requests>=2.19.0->pandas-datareader) (2022.12.7)\n",
            "Requirement already satisfied: urllib3<1.27,>=1.21.1 in /usr/local/lib/python3.9/dist-packages (from requests>=2.19.0->pandas-datareader) (1.26.15)\n",
            "Requirement already satisfied: idna<4,>=2.5 in /usr/local/lib/python3.9/dist-packages (from requests>=2.19.0->pandas-datareader) (2.10)\n",
            "Requirement already satisfied: charset-normalizer<4,>=2 in /usr/local/lib/python3.9/dist-packages (from requests>=2.19.0->pandas-datareader) (3.1.0)\n",
            "Requirement already satisfied: six>=1.5 in /usr/local/lib/python3.9/dist-packages (from python-dateutil>=2.8.1->pandas>=0.23->pandas-datareader) (1.15.0)\n",
            "Looking in indexes: https://pypi.org/simple, https://us-python.pkg.dev/colab-wheels/public/simple/\n",
            "Requirement already satisfied: yfinance in /usr/local/lib/python3.9/dist-packages (0.2.12)\n",
            "Requirement already satisfied: pytz>=2022.5 in /usr/local/lib/python3.9/dist-packages (from yfinance) (2022.7.1)\n",
            "Requirement already satisfied: requests>=2.26 in /usr/local/lib/python3.9/dist-packages (from yfinance) (2.28.2)\n",
            "Requirement already satisfied: pandas>=1.3.0 in /usr/local/lib/python3.9/dist-packages (from yfinance) (1.4.4)\n",
            "Requirement already satisfied: numpy>=1.16.5 in /usr/local/lib/python3.9/dist-packages (from yfinance) (1.22.4)\n",
            "Requirement already satisfied: multitasking>=0.0.7 in /usr/local/lib/python3.9/dist-packages (from yfinance) (0.0.11)\n",
            "Requirement already satisfied: html5lib>=1.1 in /usr/local/lib/python3.9/dist-packages (from yfinance) (1.1)\n",
            "Requirement already satisfied: cryptography>=3.3.2 in /usr/local/lib/python3.9/dist-packages (from yfinance) (39.0.2)\n",
            "Requirement already satisfied: frozendict>=2.3.4 in /usr/local/lib/python3.9/dist-packages (from yfinance) (2.3.5)\n",
            "Requirement already satisfied: lxml>=4.9.1 in /usr/local/lib/python3.9/dist-packages (from yfinance) (4.9.2)\n",
            "Requirement already satisfied: appdirs>=1.4.4 in /usr/local/lib/python3.9/dist-packages (from yfinance) (1.4.4)\n",
            "Requirement already satisfied: beautifulsoup4>=4.11.1 in /usr/local/lib/python3.9/dist-packages (from yfinance) (4.11.2)\n",
            "Requirement already satisfied: soupsieve>1.2 in /usr/local/lib/python3.9/dist-packages (from beautifulsoup4>=4.11.1->yfinance) (2.4)\n",
            "Requirement already satisfied: cffi>=1.12 in /usr/local/lib/python3.9/dist-packages (from cryptography>=3.3.2->yfinance) (1.15.1)\n",
            "Requirement already satisfied: six>=1.9 in /usr/local/lib/python3.9/dist-packages (from html5lib>=1.1->yfinance) (1.15.0)\n",
            "Requirement already satisfied: webencodings in /usr/local/lib/python3.9/dist-packages (from html5lib>=1.1->yfinance) (0.5.1)\n",
            "Requirement already satisfied: python-dateutil>=2.8.1 in /usr/local/lib/python3.9/dist-packages (from pandas>=1.3.0->yfinance) (2.8.2)\n",
            "Requirement already satisfied: urllib3<1.27,>=1.21.1 in /usr/local/lib/python3.9/dist-packages (from requests>=2.26->yfinance) (1.26.15)\n",
            "Requirement already satisfied: idna<4,>=2.5 in /usr/local/lib/python3.9/dist-packages (from requests>=2.26->yfinance) (2.10)\n",
            "Requirement already satisfied: certifi>=2017.4.17 in /usr/local/lib/python3.9/dist-packages (from requests>=2.26->yfinance) (2022.12.7)\n",
            "Requirement already satisfied: charset-normalizer<4,>=2 in /usr/local/lib/python3.9/dist-packages (from requests>=2.26->yfinance) (3.1.0)\n",
            "Requirement already satisfied: pycparser in /usr/local/lib/python3.9/dist-packages (from cffi>=1.12->cryptography>=3.3.2->yfinance) (2.21)\n"
          ]
        }
      ],
      "source": [
        "!pip install --upgrade pandas-datareader\n",
        "!pip install yfinance"
      ]
    },
    {
      "cell_type": "code",
      "execution_count": 43,
      "metadata": {
        "id": "P1Omyfm4SfzP"
      },
      "outputs": [],
      "source": [
        "import math\n",
        "import pandas_datareader as web\n",
        "import numpy as np\n",
        "import pandas as pd\n",
        "import yfinance as yf\n",
        "from sklearn.preprocessing import MinMaxScaler\n",
        "from keras.models import Sequential\n",
        "from keras.layers import Dense, LSTM\n",
        "import matplotlib.pyplot as plt\n",
        "\n",
        "plt.style.use('fivethirtyeight')"
      ]
    },
    {
      "cell_type": "code",
      "execution_count": 65,
      "metadata": {
        "colab": {
          "base_uri": "https://localhost:8080/",
          "height": 473
        },
        "id": "qmR7Rq5bTpXn",
        "outputId": "39532f92-24cb-4161-fced-343157648548"
      },
      "outputs": [
        {
          "output_type": "stream",
          "name": "stdout",
          "text": [
            "\r[*********************100%***********************]  1 of 1 completed\n"
          ]
        },
        {
          "output_type": "execute_result",
          "data": {
            "text/plain": [
              "                Open      High       Low     Close  Adj Close  Volume\n",
              "Date                                                                 \n",
              "2012-01-02  1.296008  1.296395  1.292257  1.296008   1.296008       0\n",
              "2012-01-03  1.293628  1.306592  1.293628  1.294096   1.294096       0\n",
              "2012-01-04  1.305398  1.307395  1.290206  1.305602   1.305602       0\n",
              "2012-01-05  1.293092  1.294297  1.278527  1.293142   1.293142       0\n",
              "2012-01-06  1.279296  1.281296  1.270406  1.279607   1.279607       0\n",
              "...              ...       ...       ...       ...        ...     ...\n",
              "2022-12-12  1.052222  1.057921  1.050707  1.052222   1.052222       0\n",
              "2022-12-13  1.054174  1.066894  1.052931  1.054174   1.054174       0\n",
              "2022-12-14  1.062665  1.066985  1.062011  1.062665   1.062665       0\n",
              "2022-12-15  1.067635  1.072559  1.060738  1.067635   1.067635       0\n",
              "2022-12-16  1.064056  1.066325  1.059940  1.064056   1.064056       0\n",
              "\n",
              "[2855 rows x 6 columns]"
            ],
            "text/html": [
              "\n",
              "  <div id=\"df-dee39eef-97f4-48d1-86db-dd3083f10bfb\">\n",
              "    <div class=\"colab-df-container\">\n",
              "      <div>\n",
              "<style scoped>\n",
              "    .dataframe tbody tr th:only-of-type {\n",
              "        vertical-align: middle;\n",
              "    }\n",
              "\n",
              "    .dataframe tbody tr th {\n",
              "        vertical-align: top;\n",
              "    }\n",
              "\n",
              "    .dataframe thead th {\n",
              "        text-align: right;\n",
              "    }\n",
              "</style>\n",
              "<table border=\"1\" class=\"dataframe\">\n",
              "  <thead>\n",
              "    <tr style=\"text-align: right;\">\n",
              "      <th></th>\n",
              "      <th>Open</th>\n",
              "      <th>High</th>\n",
              "      <th>Low</th>\n",
              "      <th>Close</th>\n",
              "      <th>Adj Close</th>\n",
              "      <th>Volume</th>\n",
              "    </tr>\n",
              "    <tr>\n",
              "      <th>Date</th>\n",
              "      <th></th>\n",
              "      <th></th>\n",
              "      <th></th>\n",
              "      <th></th>\n",
              "      <th></th>\n",
              "      <th></th>\n",
              "    </tr>\n",
              "  </thead>\n",
              "  <tbody>\n",
              "    <tr>\n",
              "      <th>2012-01-02</th>\n",
              "      <td>1.296008</td>\n",
              "      <td>1.296395</td>\n",
              "      <td>1.292257</td>\n",
              "      <td>1.296008</td>\n",
              "      <td>1.296008</td>\n",
              "      <td>0</td>\n",
              "    </tr>\n",
              "    <tr>\n",
              "      <th>2012-01-03</th>\n",
              "      <td>1.293628</td>\n",
              "      <td>1.306592</td>\n",
              "      <td>1.293628</td>\n",
              "      <td>1.294096</td>\n",
              "      <td>1.294096</td>\n",
              "      <td>0</td>\n",
              "    </tr>\n",
              "    <tr>\n",
              "      <th>2012-01-04</th>\n",
              "      <td>1.305398</td>\n",
              "      <td>1.307395</td>\n",
              "      <td>1.290206</td>\n",
              "      <td>1.305602</td>\n",
              "      <td>1.305602</td>\n",
              "      <td>0</td>\n",
              "    </tr>\n",
              "    <tr>\n",
              "      <th>2012-01-05</th>\n",
              "      <td>1.293092</td>\n",
              "      <td>1.294297</td>\n",
              "      <td>1.278527</td>\n",
              "      <td>1.293142</td>\n",
              "      <td>1.293142</td>\n",
              "      <td>0</td>\n",
              "    </tr>\n",
              "    <tr>\n",
              "      <th>2012-01-06</th>\n",
              "      <td>1.279296</td>\n",
              "      <td>1.281296</td>\n",
              "      <td>1.270406</td>\n",
              "      <td>1.279607</td>\n",
              "      <td>1.279607</td>\n",
              "      <td>0</td>\n",
              "    </tr>\n",
              "    <tr>\n",
              "      <th>...</th>\n",
              "      <td>...</td>\n",
              "      <td>...</td>\n",
              "      <td>...</td>\n",
              "      <td>...</td>\n",
              "      <td>...</td>\n",
              "      <td>...</td>\n",
              "    </tr>\n",
              "    <tr>\n",
              "      <th>2022-12-12</th>\n",
              "      <td>1.052222</td>\n",
              "      <td>1.057921</td>\n",
              "      <td>1.050707</td>\n",
              "      <td>1.052222</td>\n",
              "      <td>1.052222</td>\n",
              "      <td>0</td>\n",
              "    </tr>\n",
              "    <tr>\n",
              "      <th>2022-12-13</th>\n",
              "      <td>1.054174</td>\n",
              "      <td>1.066894</td>\n",
              "      <td>1.052931</td>\n",
              "      <td>1.054174</td>\n",
              "      <td>1.054174</td>\n",
              "      <td>0</td>\n",
              "    </tr>\n",
              "    <tr>\n",
              "      <th>2022-12-14</th>\n",
              "      <td>1.062665</td>\n",
              "      <td>1.066985</td>\n",
              "      <td>1.062011</td>\n",
              "      <td>1.062665</td>\n",
              "      <td>1.062665</td>\n",
              "      <td>0</td>\n",
              "    </tr>\n",
              "    <tr>\n",
              "      <th>2022-12-15</th>\n",
              "      <td>1.067635</td>\n",
              "      <td>1.072559</td>\n",
              "      <td>1.060738</td>\n",
              "      <td>1.067635</td>\n",
              "      <td>1.067635</td>\n",
              "      <td>0</td>\n",
              "    </tr>\n",
              "    <tr>\n",
              "      <th>2022-12-16</th>\n",
              "      <td>1.064056</td>\n",
              "      <td>1.066325</td>\n",
              "      <td>1.059940</td>\n",
              "      <td>1.064056</td>\n",
              "      <td>1.064056</td>\n",
              "      <td>0</td>\n",
              "    </tr>\n",
              "  </tbody>\n",
              "</table>\n",
              "<p>2855 rows × 6 columns</p>\n",
              "</div>\n",
              "      <button class=\"colab-df-convert\" onclick=\"convertToInteractive('df-dee39eef-97f4-48d1-86db-dd3083f10bfb')\"\n",
              "              title=\"Convert this dataframe to an interactive table.\"\n",
              "              style=\"display:none;\">\n",
              "        \n",
              "  <svg xmlns=\"http://www.w3.org/2000/svg\" height=\"24px\"viewBox=\"0 0 24 24\"\n",
              "       width=\"24px\">\n",
              "    <path d=\"M0 0h24v24H0V0z\" fill=\"none\"/>\n",
              "    <path d=\"M18.56 5.44l.94 2.06.94-2.06 2.06-.94-2.06-.94-.94-2.06-.94 2.06-2.06.94zm-11 1L8.5 8.5l.94-2.06 2.06-.94-2.06-.94L8.5 2.5l-.94 2.06-2.06.94zm10 10l.94 2.06.94-2.06 2.06-.94-2.06-.94-.94-2.06-.94 2.06-2.06.94z\"/><path d=\"M17.41 7.96l-1.37-1.37c-.4-.4-.92-.59-1.43-.59-.52 0-1.04.2-1.43.59L10.3 9.45l-7.72 7.72c-.78.78-.78 2.05 0 2.83L4 21.41c.39.39.9.59 1.41.59.51 0 1.02-.2 1.41-.59l7.78-7.78 2.81-2.81c.8-.78.8-2.07 0-2.86zM5.41 20L4 18.59l7.72-7.72 1.47 1.35L5.41 20z\"/>\n",
              "  </svg>\n",
              "      </button>\n",
              "      \n",
              "  <style>\n",
              "    .colab-df-container {\n",
              "      display:flex;\n",
              "      flex-wrap:wrap;\n",
              "      gap: 12px;\n",
              "    }\n",
              "\n",
              "    .colab-df-convert {\n",
              "      background-color: #E8F0FE;\n",
              "      border: none;\n",
              "      border-radius: 50%;\n",
              "      cursor: pointer;\n",
              "      display: none;\n",
              "      fill: #1967D2;\n",
              "      height: 32px;\n",
              "      padding: 0 0 0 0;\n",
              "      width: 32px;\n",
              "    }\n",
              "\n",
              "    .colab-df-convert:hover {\n",
              "      background-color: #E2EBFA;\n",
              "      box-shadow: 0px 1px 2px rgba(60, 64, 67, 0.3), 0px 1px 3px 1px rgba(60, 64, 67, 0.15);\n",
              "      fill: #174EA6;\n",
              "    }\n",
              "\n",
              "    [theme=dark] .colab-df-convert {\n",
              "      background-color: #3B4455;\n",
              "      fill: #D2E3FC;\n",
              "    }\n",
              "\n",
              "    [theme=dark] .colab-df-convert:hover {\n",
              "      background-color: #434B5C;\n",
              "      box-shadow: 0px 1px 3px 1px rgba(0, 0, 0, 0.15);\n",
              "      filter: drop-shadow(0px 1px 2px rgba(0, 0, 0, 0.3));\n",
              "      fill: #FFFFFF;\n",
              "    }\n",
              "  </style>\n",
              "\n",
              "      <script>\n",
              "        const buttonEl =\n",
              "          document.querySelector('#df-dee39eef-97f4-48d1-86db-dd3083f10bfb button.colab-df-convert');\n",
              "        buttonEl.style.display =\n",
              "          google.colab.kernel.accessAllowed ? 'block' : 'none';\n",
              "\n",
              "        async function convertToInteractive(key) {\n",
              "          const element = document.querySelector('#df-dee39eef-97f4-48d1-86db-dd3083f10bfb');\n",
              "          const dataTable =\n",
              "            await google.colab.kernel.invokeFunction('convertToInteractive',\n",
              "                                                     [key], {});\n",
              "          if (!dataTable) return;\n",
              "\n",
              "          const docLinkHtml = 'Like what you see? Visit the ' +\n",
              "            '<a target=\"_blank\" href=https://colab.research.google.com/notebooks/data_table.ipynb>data table notebook</a>'\n",
              "            + ' to learn more about interactive tables.';\n",
              "          element.innerHTML = '';\n",
              "          dataTable['output_type'] = 'display_data';\n",
              "          await google.colab.output.renderOutput(dataTable, element);\n",
              "          const docLink = document.createElement('div');\n",
              "          docLink.innerHTML = docLinkHtml;\n",
              "          element.appendChild(docLink);\n",
              "        }\n",
              "      </script>\n",
              "    </div>\n",
              "  </div>\n",
              "  "
            ]
          },
          "metadata": {},
          "execution_count": 65
        }
      ],
      "source": [
        "df = yf.download('EURUSD=X', start='2012-01-01', end='2022-12-17')\n",
        "#show the data\n",
        "\n",
        "df"
      ]
    },
    {
      "cell_type": "code",
      "execution_count": 66,
      "metadata": {
        "colab": {
          "base_uri": "https://localhost:8080/"
        },
        "id": "kJiYRMHwVXLm",
        "outputId": "ce987417-a0bd-481a-e897-374f86a0af0b"
      },
      "outputs": [
        {
          "output_type": "execute_result",
          "data": {
            "text/plain": [
              "(2855, 6)"
            ]
          },
          "metadata": {},
          "execution_count": 66
        }
      ],
      "source": [
        "df.shape"
      ]
    },
    {
      "cell_type": "code",
      "execution_count": 67,
      "metadata": {
        "colab": {
          "base_uri": "https://localhost:8080/",
          "height": 503
        },
        "id": "KrMV31ItVgqX",
        "outputId": "14d0bc95-6680-4f45-92d0-b358e05f6566"
      },
      "outputs": [
        {
          "output_type": "display_data",
          "data": {
            "text/plain": [
              "<Figure size 1152x576 with 1 Axes>"
            ],
            "image/png": "[encoded data removed]"
          },
          "metadata": {}
        }
      ],
      "source": [
        "#Visualizing the closing price history\n",
        "plt.figure(figsize=(16,8))\n",
        "plt.title('Close Price History')\n",
        "plt.plot(df['Close'])\n",
        "plt.xlabel('Date', fontsize=18)\n",
        "plt.ylabel('Close Price USD ($)', fontsize=18)\n",
        "plt.show()"
      ]
    },
    {
      "cell_type": "code",
      "execution_count": 68,
      "metadata": {
        "colab": {
          "base_uri": "https://localhost:8080/"
        },
        "id": "U1uFt6FsYmTz",
        "outputId": "ea427636-5ed6-43ba-be0b-05161d01651c"
      },
      "outputs": [
        {
          "output_type": "execute_result",
          "data": {
            "text/plain": [
              "2284"
            ]
          },
          "metadata": {},
          "execution_count": 68
        }
      ],
      "source": [
        "# New DataFrame with only Close column\n",
        "data = df.filter(['Close'])\n",
        "#Convert the datafram to a numpy array\n",
        "dataset = data.values\n",
        "#Get no of rows to train model on\n",
        "training_data_len = math.ceil(len(dataset) * .8)\n",
        "\n",
        "training_data_len"
      ]
    },
    {
      "cell_type": "code",
      "execution_count": 69,
      "metadata": {
        "colab": {
          "base_uri": "https://localhost:8080/"
        },
        "id": "FN8RtQbVaHV6",
        "outputId": "e028ed7b-2f0f-43ac-dd07-6e51688c4650"
      },
      "outputs": [
        {
          "output_type": "execute_result",
          "data": {
            "text/plain": [
              "array([[0.77604068],\n",
              "       [0.77163002],\n",
              "       [0.79817397],\n",
              "       ...,\n",
              "       [0.23772481],\n",
              "       [0.24918899],\n",
              "       [0.24093338]])"
            ]
          },
          "metadata": {},
          "execution_count": 69
        }
      ],
      "source": [
        "#scale the data\n",
        "scaler = MinMaxScaler(feature_range=(0,1))\n",
        "scaled_data = scaler.fit_transform(dataset)\n",
        "\n",
        "\n",
        "scaled_data"
      ]
    },
    {
      "cell_type": "code",
      "execution_count": 70,
      "metadata": {
        "colab": {
          "base_uri": "https://localhost:8080/"
        },
        "id": "EZL4SF5ve0-j",
        "outputId": "61ddae02-dc84-4227-919a-9cc7fd631fb0"
      },
      "outputs": [
        {
          "output_type": "stream",
          "name": "stdout",
          "text": [
            "[array([0.77604068, 0.77163002, 0.79817397, 0.76942937, 0.73820306,\n",
            "       0.71151363, 0.73356414, 0.72800174, 0.72156341, 0.74384247,\n",
            "       0.70381822, 0.70843816, 0.72665197, 0.7543452 , 0.7771652 ,\n",
            "       0.75866675, 0.79146449, 0.79471734, 0.81001794, 0.80665261,\n",
            "       0.83322214, 0.81744768, 0.80301887, 0.82447398, 0.81689023,\n",
            "       0.8145826 , 0.81331122, 0.84258769, 0.84258769, 0.84948721,\n",
            "       0.83987717, 0.82167545, 0.81609407, 0.79864589, 0.81450312,\n",
            "       0.83765562, 0.83249775, 0.84137324, 0.84424877, 0.87144587,\n",
            "       0.89300989, 0.87905657, 0.89552241, 0.85928041, 0.85968991,\n",
            "       0.82819986, 0.83733275, 0.81370834, 0.81752744, 0.84867372,\n",
            "       0.81410573, 0.82407384, 0.80380788, 0.79044694, 0.80341351,\n",
            "       0.82611553, 0.83813991, 0.84007903, 0.83571925, 0.83249775])]\n",
            "[0.8505451851330346]\n",
            "\n",
            "[array([0.77604068, 0.77163002, 0.79817397, 0.76942937, 0.73820306,\n",
            "       0.71151363, 0.73356414, 0.72800174, 0.72156341, 0.74384247,\n",
            "       0.70381822, 0.70843816, 0.72665197, 0.7543452 , 0.7771652 ,\n",
            "       0.75866675, 0.79146449, 0.79471734, 0.81001794, 0.80665261,\n",
            "       0.83322214, 0.81744768, 0.80301887, 0.82447398, 0.81689023,\n",
            "       0.8145826 , 0.81331122, 0.84258769, 0.84258769, 0.84948721,\n",
            "       0.83987717, 0.82167545, 0.81609407, 0.79864589, 0.81450312,\n",
            "       0.83765562, 0.83249775, 0.84137324, 0.84424877, 0.87144587,\n",
            "       0.89300989, 0.87905657, 0.89552241, 0.85928041, 0.85968991,\n",
            "       0.82819986, 0.83733275, 0.81370834, 0.81752744, 0.84867372,\n",
            "       0.81410573, 0.82407384, 0.80380788, 0.79044694, 0.80341351,\n",
            "       0.82611553, 0.83813991, 0.84007903, 0.83571925, 0.83249775]), array([0.77163002, 0.79817397, 0.76942937, 0.73820306, 0.71151363,\n",
            "       0.73356414, 0.72800174, 0.72156341, 0.74384247, 0.70381822,\n",
            "       0.70843816, 0.72665197, 0.7543452 , 0.7771652 , 0.75866675,\n",
            "       0.79146449, 0.79471734, 0.81001794, 0.80665261, 0.83322214,\n",
            "       0.81744768, 0.80301887, 0.82447398, 0.81689023, 0.8145826 ,\n",
            "       0.81331122, 0.84258769, 0.84258769, 0.84948721, 0.83987717,\n",
            "       0.82167545, 0.81609407, 0.79864589, 0.81450312, 0.83765562,\n",
            "       0.83249775, 0.84137324, 0.84424877, 0.87144587, 0.89300989,\n",
            "       0.87905657, 0.89552241, 0.85928041, 0.85968991, 0.82819986,\n",
            "       0.83733275, 0.81370834, 0.81752744, 0.84867372, 0.81410573,\n",
            "       0.82407384, 0.80380788, 0.79044694, 0.80341351, 0.82611553,\n",
            "       0.83813991, 0.84007903, 0.83571925, 0.83249775, 0.85054519])]\n",
            "[0.8505451851330346, 0.8683129292260374]\n",
            "\n"
          ]
        }
      ],
      "source": [
        "#Create training dataset\n",
        "#Create the scaled training dataset\n",
        "train_data = scaled_data[0:training_data_len , :]\n",
        "#split the data to x_train and y_train data sets\n",
        "x_train = []\n",
        "y_train = []\n",
        "\n",
        "for i in range(60, len(train_data)):\n",
        "  x_train.append(train_data[i-60:i, 0])\n",
        "  y_train.append(train_data[i, 0])\n",
        "  if(i<=61):\n",
        "    print(x_train)\n",
        "    print(y_train)\n",
        "    print()"
      ]
    },
    {
      "cell_type": "code",
      "execution_count": 71,
      "metadata": {
        "id": "tr1r1qCaqWdS"
      },
      "outputs": [],
      "source": [
        "#Convert x_train and y_train to numpy arrays\n",
        "x_train, y_train = np.array(x_train), np.array(y_train)"
      ]
    },
    {
      "cell_type": "code",
      "execution_count": 72,
      "metadata": {
        "colab": {
          "base_uri": "https://localhost:8080/"
        },
        "id": "vxsQBvIlq4Xu",
        "outputId": "bca4ae22-ee36-46a1-c375-66df7eebb9df"
      },
      "outputs": [
        {
          "output_type": "execute_result",
          "data": {
            "text/plain": [
              "(2224, 60, 1)"
            ]
          },
          "metadata": {},
          "execution_count": 72
        }
      ],
      "source": [
        "#Reshape the data\n",
        "x_train = np.reshape(x_train,(x_train.shape[0], x_train.shape[1], 1))\n",
        "x_train.shape"
      ]
    },
    {
      "cell_type": "code",
      "execution_count": 73,
      "metadata": {
        "id": "nf46YlK3r8qm"
      },
      "outputs": [],
      "source": [
        "#Build the Lstm Model\n",
        "\n",
        "model = Sequential()\n",
        "model.add(LSTM (50, return_sequences=True,input_shape=(x_train.shape[1], 1)))\n",
        "model.add(LSTM(50, return_sequences= False))\n",
        "model.add(Dense(25))\n",
        "model.add(Dense(1))"
      ]
    },
    {
      "cell_type": "code",
      "execution_count": 74,
      "metadata": {
        "id": "wk1md3isyR8i"
      },
      "outputs": [],
      "source": [
        "#Compile the model\n",
        "model.compile(optimizer='adam', loss='mean_squared_error')"
      ]
    },
    {
      "cell_type": "code",
      "execution_count": 75,
      "metadata": {
        "colab": {
          "base_uri": "https://localhost:8080/"
        },
        "id": "zdwOaPHVytqB",
        "outputId": "b95dfc47-c2dd-418c-e5c9-1e9d1d79d4ed"
      },
      "outputs": [
        {
          "output_type": "stream",
          "name": "stdout",
          "text": [
            "Epoch 1/10\n",
            "2224/2224 [==============================] - 80s 34ms/step - loss: 0.0015\n",
            "Epoch 2/10\n",
            "2224/2224 [==============================] - 77s 35ms/step - loss: 6.2740e-04\n",
            "Epoch 3/10\n",
            "2224/2224 [==============================] - 78s 35ms/step - loss: 4.5046e-04\n",
            "Epoch 4/10\n",
            "2224/2224 [==============================] - 77s 35ms/step - loss: 4.5953e-04\n",
            "Epoch 5/10\n",
            "2224/2224 [==============================] - 78s 35ms/step - loss: 4.4897e-04\n",
            "Epoch 6/10\n",
            "2224/2224 [==============================] - 79s 35ms/step - loss: 3.9797e-04\n",
            "Epoch 7/10\n",
            "2224/2224 [==============================] - 79s 35ms/step - loss: 3.7999e-04\n",
            "Epoch 8/10\n",
            "2224/2224 [==============================] - 78s 35ms/step - loss: 3.6876e-04\n",
            "Epoch 9/10\n",
            "2224/2224 [==============================] - 78s 35ms/step - loss: 3.6726e-04\n",
            "Epoch 10/10\n",
            "2224/2224 [==============================] - 79s 36ms/step - loss: 3.3493e-04\n"
          ]
        },
        {
          "output_type": "execute_result",
          "data": {
            "text/plain": [
              "<keras.callbacks.History at 0x7f47b1df1460>"
            ]
          },
          "metadata": {},
          "execution_count": 75
        }
      ],
      "source": [
        "#Train the model\n",
        "model.fit(x_train, y_train, batch_size=1, epochs=10)"
      ]
    },
    {
      "cell_type": "code",
      "execution_count": 76,
      "metadata": {
        "id": "RoXrU0b2zve0"
      },
      "outputs": [],
      "source": [
        "#Create testing dataset\n",
        "#Create new array containing scaled values from index 2104 to 2705\n",
        "test_data = scaled_data[training_data_len - 60: , :]\n",
        "#Create the data sets x_test and y_test\n",
        "x_test = []\n",
        "y_test = dataset[training_data_len: , :]\n",
        "for i in range(60, len(test_data)):\n",
        "  x_test.append(test_data[i-60: i, 0])"
      ]
    },
    {
      "cell_type": "code",
      "execution_count": 77,
      "metadata": {
        "id": "Lje_Mm_72Ec7"
      },
      "outputs": [],
      "source": [
        "#Convert data to a numpy array\n",
        "x_test = np.array(x_test)"
      ]
    },
    {
      "cell_type": "code",
      "execution_count": 78,
      "metadata": {
        "id": "-HyeE80z2u0W"
      },
      "outputs": [],
      "source": [
        "#Reshape the data\n",
        "x_test = np.reshape(x_test,(x_test.shape[0],x_test.shape[1], 1))"
      ]
    },
    {
      "cell_type": "code",
      "execution_count": 79,
      "metadata": {
        "id": "Vf85ydGd3nv4",
        "colab": {
          "base_uri": "https://localhost:8080/"
        },
        "outputId": "c913b6b4-4b87-4d1d-cce0-0f2f0ca4c61c"
      },
      "outputs": [
        {
          "output_type": "stream",
          "name": "stdout",
          "text": [
            "18/18 [==============================] - 1s 21ms/step\n"
          ]
        }
      ],
      "source": [
        "#Get models predicted value\n",
        "predictions = model.predict(x_test)\n",
        "predictions = scaler.inverse_transform(predictions)\n"
      ]
    },
    {
      "cell_type": "code",
      "execution_count": 80,
      "metadata": {
        "id": "vWlVro6t5MgS",
        "colab": {
          "base_uri": "https://localhost:8080/"
        },
        "outputId": "9f90c138-277f-43fe-d96f-6c1fdc8550c1"
      },
      "outputs": [
        {
          "output_type": "execute_result",
          "data": {
            "text/plain": [
              "0.0012704007679860772"
            ]
          },
          "metadata": {},
          "execution_count": 80
        }
      ],
      "source": [
        "#Get the root mean squared error\n",
        "rmse = np.sqrt(np.mean(predictions - y_test)**2)\n",
        "\n",
        "rmse"
      ]
    },
    {
      "cell_type": "code",
      "execution_count": 81,
      "metadata": {
        "id": "EP3EbaPF6VR5",
        "colab": {
          "base_uri": "https://localhost:8080/",
          "height": 630
        },
        "outputId": "fa19bdf4-8dc0-401d-c975-9c0feb6abe0f"
      },
      "outputs": [
        {
          "output_type": "stream",
          "name": "stderr",
          "text": [
            "<ipython-input-81-7b801239e163>:4: SettingWithCopyWarning: \n",
            "A value is trying to be set on a copy of a slice from a DataFrame.\n",
            "Try using .loc[row_indexer,col_indexer] = value instead\n",
            "\n",
            "See the caveats in the documentation: https://pandas.pydata.org/pandas-docs/stable/user_guide/indexing.html#returning-a-view-versus-a-copy\n",
            "  valid['Predictions'] = predictions\n"
          ]
        },
        {
          "output_type": "display_data",
          "data": {
            "text/plain": [
              "<Figure size 1152x576 with 1 Axes>"
            ],
            "image/png": "[encoded data removed]"
          },
          "metadata": {}
        }
      ],
      "source": [
        "#Plot the data\n",
        "train = data[:training_data_len]\n",
        "valid = data[training_data_len:]\n",
        "valid['Predictions'] = predictions\n",
        "#Visualize the model\n",
        "plt.figure(figsize=(16,8))\n",
        "plt.title('Model')\n",
        "plt.xlabel('date', fontsize = 18)\n",
        "plt.ylabel('close', fontsize = 18)\n",
        "plt.plot(train['Close'])\n",
        "plt.plot(valid[['Close', 'Predictions']])\n",
        "plt.legend(['Train', 'Val', 'Predictions'], loc='lower right')\n",
        "plt.show()"
      ]
    },
    {
      "cell_type": "code",
      "execution_count": 85,
      "metadata": {
        "id": "ElVcGH5S-Oqz"
      },
      "outputs": [],
      "source": [
        "#show the valid and predicted prices\n",
        "valid\n",
        "# valid.to_csv('EURUSD trained results.csv', header=False, index=False)"
      ]
    },
    {
      "cell_type": "code",
      "execution_count": 83,
      "metadata": {
        "id": "DW-SdCVq_AFX",
        "colab": {
          "base_uri": "https://localhost:8080/"
        },
        "outputId": "d7a29b83-4a22-4d4e-9b54-48f2ae95fe8a"
      },
      "outputs": [
        {
          "output_type": "stream",
          "name": "stdout",
          "text": [
            "[*********************100%***********************]  1 of 1 completed\n",
            "1/1 [==============================] - 0s 57ms/step\n",
            "Prediction for MMM on 2022-11-12 close is 2.6462212\n",
            "[*********************100%***********************]  1 of 1 completed\n",
            "1/1 [==============================] - 0s 50ms/step\n",
            "Prediction for ABT on 2022-11-12 close is 2.6466784\n",
            "[*********************100%***********************]  1 of 1 completed\n",
            "1/1 [==============================] - 0s 49ms/step\n",
            "Prediction for ADM on 2022-11-12 close is 2.64678\n",
            "[*********************100%***********************]  1 of 1 completed\n",
            "1/1 [==============================] - 0s 53ms/step\n",
            "Prediction for ADBE on 2022-11-12 close is 2.643092\n",
            "[*********************100%***********************]  1 of 1 completed\n",
            "1/1 [==============================] - 0s 31ms/step\n",
            "Prediction for T on 2022-11-12 close is 2.6549263\n",
            "[*********************100%***********************]  1 of 1 completed\n",
            "1/1 [==============================] - 0s 35ms/step\n",
            "Prediction for ADSK on 2022-11-12 close is 2.644591\n",
            "[*********************100%***********************]  1 of 1 completed\n",
            "1/1 [==============================] - 0s 33ms/step\n",
            "Prediction for COST on 2022-11-12 close is 2.6418877\n",
            "[*********************100%***********************]  1 of 1 completed\n",
            "1/1 [==============================] - 0s 49ms/step\n",
            "Prediction for DAL on 2022-11-12 close is 2.6484241\n",
            "[*********************100%***********************]  1 of 1 completed\n",
            "1/1 [==============================] - 0s 35ms/step\n",
            "Prediction for IBM on 2022-11-12 close is 2.6460247\n",
            "[*********************100%***********************]  1 of 1 completed\n",
            "1/1 [==============================] - 0s 33ms/step\n",
            "Prediction for MCD on 2022-11-12 close is 2.6438386\n",
            "[*********************100%***********************]  1 of 1 completed\n",
            "1/1 [==============================] - 0s 33ms/step\n",
            "Prediction for META on 2022-11-12 close is 2.646588\n",
            "[*********************100%***********************]  1 of 1 completed\n",
            "1/1 [==============================] - 0s 35ms/step\n",
            "Prediction for MRNA on 2022-11-12 close is 2.6455283\n",
            "[*********************100%***********************]  1 of 1 completed\n",
            "1/1 [==============================] - 0s 36ms/step\n",
            "Prediction for NFLX on 2022-11-12 close is 2.6436648\n"
          ]
        }
      ],
      "source": [
        "Quote = ['MMM','ABT','ADM','ADBE','T','ADSK','COST','DAL','IBM','MCD','META','MRNA','NFLX']\n",
        "for i in range(len(Quote)):\n",
        "  EndDate = '2022-11-12'\n",
        "  apple_quote =yf.download(Quote[i], start = '2012-01-01', end = EndDate)\n",
        "  new_df = apple_quote.filter(['Close'])\n",
        "  last_60_days = new_df[-60:].values\n",
        "  last_60_days_scaled = scaler.transform(last_60_days)\n",
        "  X_test = []\n",
        "  X_test.append(last_60_days_scaled)\n",
        "  X_test = np.array(X_test)\n",
        "  X_test = np.reshape(X_test, (X_test.shape[0], X_test.shape[1], 1))\n",
        "  pred_price = model.predict(X_test)\n",
        "  pred_price = scaler.inverse_transform(pred_price)\n",
        "  print(\"Prediction for \" + Quote[i] + \" on \" + str(EndDate) + \" close is \" + str(pred_price[0,0]))\n"
      ]
    },
    {
      "cell_type": "code",
      "execution_count": 84,
      "metadata": {
        "id": "Mpl-nJgeDWeF",
        "colab": {
          "base_uri": "https://localhost:8080/"
        },
        "outputId": "2ecf411d-0a8e-4be3-c25d-56d7e69d5d80"
      },
      "outputs": [
        {
          "output_type": "stream",
          "name": "stdout",
          "text": [
            "\r[*********************100%***********************]  1 of 1 completed\n",
            "\n",
            "1 Failed download:\n",
            "- MMM: No data found for this date range, symbol may be delisted\n",
            "MMM Series([], Name: Close, dtype: float64)\n",
            "[*********************100%***********************]  1 of 1 completed\n",
            "\n",
            "1 Failed download:\n",
            "- ABT: No data found for this date range, symbol may be delisted\n",
            "ABT Series([], Name: Close, dtype: float64)\n",
            "[*********************100%***********************]  1 of 1 completed\n",
            "\n",
            "1 Failed download:\n",
            "- ADM: No data found for this date range, symbol may be delisted\n",
            "ADM Series([], Name: Close, dtype: float64)\n",
            "[*********************100%***********************]  1 of 1 completed\n",
            "\n",
            "1 Failed download:\n",
            "- ADBE: No data found for this date range, symbol may be delisted\n",
            "ADBE Series([], Name: Close, dtype: float64)\n",
            "[*********************100%***********************]  1 of 1 completed\n",
            "\n",
            "1 Failed download:\n",
            "- T: No data found for this date range, symbol may be delisted\n",
            "T Series([], Name: Close, dtype: float64)\n",
            "[*********************100%***********************]  1 of 1 completed\n",
            "\n",
            "1 Failed download:\n",
            "- ADSK: No data found for this date range, symbol may be delisted\n",
            "ADSK Series([], Name: Close, dtype: float64)\n",
            "[*********************100%***********************]  1 of 1 completed\n",
            "\n",
            "1 Failed download:\n",
            "- COST: No data found for this date range, symbol may be delisted\n",
            "COST Series([], Name: Close, dtype: float64)\n",
            "[*********************100%***********************]  1 of 1 completed\n",
            "\n",
            "1 Failed download:\n",
            "- DAL: No data found for this date range, symbol may be delisted\n",
            "DAL Series([], Name: Close, dtype: float64)\n",
            "[*********************100%***********************]  1 of 1 completed\n",
            "\n",
            "1 Failed download:\n",
            "- IBM: No data found for this date range, symbol may be delisted\n",
            "IBM Series([], Name: Close, dtype: float64)\n",
            "[*********************100%***********************]  1 of 1 completed\n",
            "\n",
            "1 Failed download:\n",
            "- MCD: No data found for this date range, symbol may be delisted\n",
            "MCD Series([], Name: Close, dtype: float64)\n",
            "[*********************100%***********************]  1 of 1 completed\n",
            "\n",
            "1 Failed download:\n",
            "- META: No data found for this date range, symbol may be delisted\n",
            "META Series([], Name: Close, dtype: float64)\n",
            "[*********************100%***********************]  1 of 1 completed\n",
            "\n",
            "1 Failed download:\n",
            "- MRNA: No data found for this date range, symbol may be delisted\n",
            "MRNA Series([], Name: Close, dtype: float64)\n",
            "[*********************100%***********************]  1 of 1 completed\n",
            "\n",
            "1 Failed download:\n",
            "- NFLX: No data found for this date range, symbol may be delisted\n",
            "NFLX Series([], Name: Close, dtype: float64)\n"
          ]
        }
      ],
      "source": [
        "for i in range(len(Quote)):\n",
        "  apple_quote2 = yf.download(Quote[i], start = EndDate, end = EndDate)\n",
        "  print(str(Quote[i]) + \" \" + str(apple_quote2['Close']))"
      ]
    }
  ],
  "metadata": {
    "colab": {
      "provenance": [],
      "authorship_tag": "ABX9TyMjzaEgIM8wEEDpd9k0o/QZ",
      "include_colab_link": true
    },
    "kernelspec": {
      "display_name": "Python 3",
      "name": "python3"
    },
    "language_info": {
      "name": "python"
    }
  },
  "nbformat": 4,
  "nbformat_minor": 0
}